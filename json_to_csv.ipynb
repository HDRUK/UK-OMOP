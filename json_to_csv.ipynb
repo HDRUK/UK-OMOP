{
 "cells": [
  {
   "cell_type": "markdown",
   "id": "b82bc4a2-bd7b-43a9-b112-680ed0677869",
   "metadata": {},
   "source": [
    "Round-trip the JSON data back to CSV"
   ]
  },
  {
   "cell_type": "code",
   "execution_count": 1,
   "id": "88ae9929-ba22-4386-b66e-9a80dead70b8",
   "metadata": {},
   "outputs": [],
   "source": [
    "import pandas as pd\n",
    "from IPython.display import JSON\n",
    "import json"
   ]
  },
  {
   "cell_type": "markdown",
   "id": "c82f99d4-95da-4723-860f-b1d4a3365c12",
   "metadata": {},
   "source": [
    "Load the JSON file"
   ]
  },
  {
   "cell_type": "code",
   "execution_count": 2,
   "id": "fdbfcea3-ac6a-4247-adaf-d23b8e944ac8",
   "metadata": {},
   "outputs": [],
   "source": [
    "json_file_name = 'datasets.json'\n",
    "with open(json_file_name, mode='rt') as json_file_obj:\n",
    "    json_dict = json.load(json_file_obj)\n",
    "    "
   ]
  },
  {
   "cell_type": "code",
   "execution_count": 4,
   "id": "7ccb203e-9536-49fe-a534-f6ad298f134a",
   "metadata": {},
   "outputs": [
    {
     "data": {
      "application/json": [
       {
        "Care type": "Secondary",
        "Data set": "Akrivia (AKRDB)",
        "Health area": "Mental health",
        "Link": "https://portal.ehden.eu/c/EHDEN/fingerprint/caad32dbaf29a090f971402f0914e6b9/1||EHDEN",
        "Organisation name": "https://akriviahealth.com||Akrivia Health"
       },
       {
        "Care type": "Secondary care",
        "Data set": "Birmingham Inflammation and joint pain study",
        "Health area": "Pain",
        "Link": "https://healthdatagateway.org/en/dataset/1009||Gateway",
        "Organisation name": "https://alleviate.ac.uk||Alleviate Hub"
       },
       {
        "Care type": "Secondary care",
        "Data set": "Oxford Carpal Tunnel Syndrome (CTS) Cohort",
        "Health area": "Study",
        "Link": "https://healthdatagateway.org/en/dataset/736||Gateway",
        "Organisation name": "https://alleviate.ac.uk||Alleviate Hub"
       },
       {
        "Care type": "Cohort",
        "Data set": "ALSPAC",
        "Health area": "General",
        "Link": "",
        "Organisation name": "https://www.bristol.ac.uk/alspac/||Avon Longitudinal Study of Parents and Children"
       },
       {
        "Care type": "Inpatient (hospital) care/Outpatient specialist care/Pharmacy care",
        "Data set": "Barts",
        "Health area": "General",
        "Link": "https://portal.ehden.eu/c/EHDEN/fingerprint/a3561d0de114192ece978577133a3ce1/1||EHDEN",
        "Organisation name": "https://www.bartshealth.nhs.uk/||Barts Health NHS Trust"
       },
       {
        "Care type": "Barts Health NHS OMOP Dataset",
        "Data set": "Barts Health NHS OMOP Dataset",
        "Health area": "General",
        "Link": "https://healthdatagateway.org/en/dataset/1098||Gateway",
        "Organisation name": "https://www.bartshealth.nhs.uk/||Barts Health NHS Trust"
       },
       {
        "Care type": "Cohort",
        "Data set": "Genetics of Asthma Severity & Phenotypes",
        "Health area": "Asthma",
        "Link": "",
        "Organisation name": "https://www.ed.ac.uk/usher/breathe||BREATHE"
       },
       {
        "Care type": "Primary",
        "Data set": "CPRD Aurum",
        "Health area": "General",
        "Link": "https://portal.ehden.eu/c/EHDEN/fingerprint/f7a9bbcb9d908083f88d1c00e40f1c9b/1||EHDEN",
        "Organisation name": "https://www.cprd.com/||Clinical Practice Research Datalink"
       },
       {
        "Care type": "Primary + Inpatient",
        "Data set": "CPRD Aurum linked HES APC data",
        "Health area": "General",
        "Link": "https://portal.ehden.eu/c/EHDEN/fingerprint/53ba7e0463ee61834cf1202a4797edfe/1||EHDEN",
        "Organisation name": "https://www.cprd.com/||Clinical Practice Research Datalink"
       },
       {
        "Care type": "Primary",
        "Data set": "CPRD Primary Care OMOP Common Data Model",
        "Health area": "General",
        "Link": "https://healthdatagateway.org/en/dataset/1100||Gateway",
        "Organisation name": "https://www.cprd.com/||Clinical Practice Research Datalink"
       },
       {
        "Care type": "Primary + Linked",
        "Data set": "CPRD Primary Care and Linked Data OMOP Common Data Model",
        "Health area": "General",
        "Link": "https://healthdatagateway.org/en/dataset/1099||Gateway",
        "Organisation name": "https://www.cprd.com/||Clinical Practice Research Datalink"
       },
       {
        "Care type": "Inpatient (hospital) care/Outpatient general practitioner care/Outpatient specialist care/Long term/ skill nursing facility care/Pharmacy care/Other",
        "Data set": "cBradford",
        "Health area": "General",
        "Link": "https://portal.ehden.eu/c/EHDEN/fingerprint/1cc558a55bc0d14901eeea1f499ecfff/1||EHDEN",
        "Organisation name": "https://www.bradfordresearch.nhs.uk/our-research-teams/connected-bradford/||Connected Bradford"
       },
       {
        "Care type": "Inpatient",
        "Data set": "HES-APC",
        "Health area": "General",
        "Link": "",
        "Organisation name": "https://bhfdatasciencecentre.org/||BHF Data Science Centre (CVD-COVID-UK/COVID-IMPACT)"
       },
       {
        "Care type": "Other",
        "Data set": "Death registrations",
        "Health area": "Deaths",
        "Link": "",
        "Organisation name": "https://bhfdatasciencecentre.org/||BHF Data Science Centre (CVD-COVID-UK/COVID-IMPACT)"
       },
       {
        "Care type": "Primary",
        "Data set": "GPES",
        "Health area": "Pandemic",
        "Link": "",
        "Organisation name": "https://bhfdatasciencecentre.org/||BHF Data Science Centre (CVD-COVID-UK/COVID-IMPACT)"
       },
       {
        "Care type": "Registry",
        "Data set": "NICOR",
        "Health area": "Heart failure",
        "Link": "",
        "Organisation name": "https://bhfdatasciencecentre.org/||BHF Data Science Centre (CVD-COVID-UK/COVID-IMPACT)"
       },
       {
        "Care type": "Primary",
        "Data set": "Discover-NOW",
        "Health area": "General",
        "Link": "",
        "Organisation name": "https://discover-now.co.uk/||Discover-NOW"
       },
       {
        "Care type": "?",
        "Data set": "?",
        "Health area": "?",
        "Link": "",
        "Organisation name": "https://healthinnovationeast.co.uk/||Eastern AHSN (Academic Health Science Network)"
       },
       {
        "Care type": "Cohort",
        "Data set": "GS:SFHS",
        "Health area": "General",
        "Link": "",
        "Organisation name": "https://www.ed.ac.uk/generation-scotland||Generation Scotland"
       },
       {
        "Care type": "Various",
        "Data set": "NHSD HES datasets",
        "Health area": "Cancer, rare diseases, COVID",
        "Link": "",
        "Organisation name": "https://www.genomicsengland.co.uk/||Genomics England"
       },
       {
        "Care type": "",
        "Data set": "100,000 Genomes",
        "Health area": "",
        "Link": "https://healthdatagateway.org/en/dataset/373||Gateway",
        "Organisation name": "https://www.genomicsengland.co.uk/||Genomics England"
       },
       {
        "Care type": "",
        "Data set": "Internal Cancer and Rare Disease datasets",
        "Health area": "",
        "Link": "",
        "Organisation name": "https://www.genomicsengland.co.uk/||Genomics England"
       },
       {
        "Care type": "",
        "Data set": "NCRAS",
        "Health area": "",
        "Link": "",
        "Organisation name": "https://www.genomicsengland.co.uk/||Genomics England"
       },
       {
        "Care type": "",
        "Data set": "NHSD Cancer datasets",
        "Health area": "",
        "Link": "",
        "Organisation name": "https://www.genomicsengland.co.uk/||Genomics England"
       },
       {
        "Care type": "",
        "Data set": "UKHSA COVID Test Results",
        "Health area": "",
        "Link": "",
        "Organisation name": "https://www.genomicsengland.co.uk/||Genomics England"
       },
       {
        "Care type": "Secondary",
        "Data set": "GOSH DRE",
        "Health area": "Paediatric",
        "Link": "https://portal.ehden.eu/c/EHDEN/fingerprint/ab2b17e951004da0ae77fffa19736204/1||EHDEN",
        "Organisation name": "https://www.gosh.nhs.uk/||Great Ormond Street Hospital"
       },
       {
        "Care type": "Cohort",
        "Data set": "Co-STARS",
        "Health area": "COVID",
        "Link": "https://healthdatagateway.org/en/dataset/401||Gateway",
        "Organisation name": "https://www.gosh.nhs.uk/||Great Ormond Street Hospital"
       },
       {
        "Care type": "Registry",
        "Data set": "NHIC RENAL GSTT",
        "Health area": "Renal transplantation",
        "Link": "https://portal.ehden.eu/c/EHDEN/fingerprint/65fd0722b9fc9d3ec0eb82c8479bc16a/1||EHDEN",
        "Organisation name": "https://www.guysandstthomas.nhs.uk/||Guy's & St Thomas' Hospital NHS Foundation Trust"
       },
       {
        "Care type": "Secondary",
        "Data set": "HES",
        "Health area": "General",
        "Link": "https://portal.ehden.eu/c/EHDEN/fingerprint/718459ab74b2618296afff1f2762c38d/1||EHDEN",
        "Organisation name": "https://www.harveywalsh.co.uk/||Harvey Walsh Ltd"
       },
       {
        "Care type": "Primary, Secondary, Tertiary",
        "Data set": "ICHT Core Data",
        "Health area": "General",
        "Link": "",
        "Organisation name": "https://www.imperial.nhs.uk/||Imperial College Healthcare NHS Trust"
       },
       {
        "Care type": "Cohort",
        "Data set": "REACT-2",
        "Health area": "COVID",
        "Link": "https://www.healthdatagateway.org/||Gateway",
        "Organisation name": "https://www.imperial.ac.uk/||Imperial College London"
       },
       {
        "Care type": "Secondary +",
        "Data set": "NNRD",
        "Health area": "Neonatal",
        "Link": "https://portal.ehden.eu/c/EHDEN/fingerprint/17c21e5d374151a1d9a95ce2cf5fcbb8/1||EHDEN",
        "Organisation name": "https://www.imperial.ac.uk/neonatal-data-analysis-unit/neonatal-data-analysis-unit/||Imperial College London"
       },
       {
        "Care type": "",
        "Data set": "IMRD",
        "Health area": "",
        "Link": "",
        "Organisation name": "https://www.iqvia.com/||IQVIA"
       },
       {
        "Care type": "Registry",
        "Data set": "CO-CIN",
        "Health area": "COVID",
        "Link": "",
        "Organisation name": "https://isaric4c.net/||ISARIC4C"
       },
       {
        "Care type": "Registry",
        "Data set": "SLSR",
        "Health area": "Stroke",
        "Link": "https://portal.ehden.eu/c/EHDEN/fingerprint/1464853b41bd7b41eb31b650272f9037/1||EHDEN",
        "Organisation name": "https://www.kcl.ac.uk/research/stroke-research-group||King's College London/Guy's and St Thomas' NHS Foundation Trust"
       },
       {
        "Care type": "Secondary, General EHR",
        "Data set": "IDRIL-1",
        "Health area": "Cancer, Drugs, Devices",
        "Link": "https://portal.ehden.eu/c/EHDEN/fingerprint/7554401febdaa999bf684bc023b6b7e5/1||EHDEN",
        "Organisation name": "https://www.lancsteachinghospitals.nhs.uk/||Lancashire Teaching Hospitals NHS Foundation Trust"
       },
       {
        "Care type": "Inpatient (hospital) care",
        "Data set": "LTHT",
        "Health area": "General",
        "Link": "https://portal.ehden.eu/c/EHDEN/fingerprint/f8770c62877d0a686e7c65694988e8bb/1||EHDEN",
        "Organisation name": "https://www.leedsth.nhs.uk/||Leeds Teaching Hospitals NHS Trust"
       },
       {
        "Care type": "Registry",
        "Data set": "National Joint Registry NJR",
        "Health area": "Joint replacement",
        "Link": "",
        "Organisation name": "https://www.njrcentre.org.uk/||National Joint Registry (HQIP)"
       },
       {
        "Care type": "Biobank",
        "Data set": "Sample holding",
        "Health area": "General",
        "Link": "",
        "Organisation name": "https://bioresource.nihr.ac.uk/||NIHR BioResource"
       },
       {
        "Care type": "Outpatient general practitioner care",
        "Data set": "Optimum Patient Care Research Database",
        "Health area": "General",
        "Link": "https://portal.ehden.eu/c/EHDEN/fingerprint/c9c148c1cd8f645fa1d291e7204d82cd/1||EHDEN",
        "Organisation name": "https://www.optimumpatientcare.org/||Optimum Patient Care"
       },
       {
        "Care type": "Cohort",
        "Data set": "Oxford Healthcare Workers",
        "Health area": "COVID",
        "Link": "https://www.healthdatagateway.org/||Gateway",
        "Organisation name": "https://www.ouh.nhs.uk/||Oxford University Hospitals"
       },
       {
        "Care type": "Registry",
        "Data set": "CRP",
        "Health area": "COVID",
        "Link": "https://healthdatagateway.org/en/dataset/146||Gateway",
        "Organisation name": "https://www.pioneerdatahub.co.uk/||PIONEER"
       },
       {
        "Care type": "Registry",
        "Data set": "Hospital COVID patients",
        "Health area": "COVID",
        "Link": "https://healthdatagateway.org/en/dataset/139||Gateway",
        "Organisation name": "https://www.pioneerdatahub.co.uk/||PIONEER"
       },
       {
        "Care type": "Registry",
        "Data set": "Ventilatory strategies and outcomes",
        "Health area": "COVID",
        "Link": "https://healthdatagateway.org/en/dataset/142||Gateway",
        "Organisation name": "https://www.pioneerdatahub.co.uk/||PIONEER"
       },
       {
        "Care type": "Registry",
        "Data set": "COPD",
        "Health area": "COVID",
        "Link": "https://healthdatagateway.org/en/dataset/191||Gateway",
        "Organisation name": "https://www.pioneerdatahub.co.uk/||PIONEER"
       },
       {
        "Care type": "Registry",
        "Data set": "Coagulopathies & thrombosis",
        "Health area": "COVID",
        "Link": "https://healthdatagateway.org/en/dataset/144||Gateway",
        "Organisation name": "https://www.pioneerdatahub.co.uk/||PIONEER"
       },
       {
        "Care type": "Registry",
        "Data set": "Scottish Cancer Registry (SMR06)",
        "Health area": "Cancer",
        "Link": "",
        "Organisation name": "https://publichealthscotland.scot/||Public Health Scotland"
       },
       {
        "Care type": "Secondary",
        "Data set": "Scottish Morbidity Record (SMR00)",
        "Health area": "General",
        "Link": "",
        "Organisation name": "https://publichealthscotland.scot/||Public Health Scotland"
       },
       {
        "Care type": "Other",
        "Data set": "NRS - Deaths Data",
        "Health area": "Deaths",
        "Link": "",
        "Organisation name": "https://publichealthscotland.scot/||Public Health Scotland"
       },
       {
        "Care type": "Other",
        "Data set": "COVID Tests",
        "Health area": "COVID",
        "Link": "",
        "Organisation name": "https://publichealthscotland.scot/||Public Health Scotland"
       },
       {
        "Care type": "Other",
        "Data set": "Scottish Covid-19 Vaccination Data",
        "Health area": "COVID",
        "Link": "",
        "Organisation name": "https://publichealthscotland.scot/||Public Health Scotland"
       },
       {
        "Care type": "Registry",
        "Data set": "National Hip Fracture Database (England and Wales)",
        "Health area": "Hip fractures",
        "Link": "https://portal.ehden.eu/c/EHDEN/fingerprint/b23d2ce8e4e7dfe2bea648f4061e7985/1||EHDEN",
        "Organisation name": "https://www.qmul.ac.uk/||Queen Mary University of London"
       },
       {
        "Care type": "Registry",
        "Data set": "Fracture Liaison Service Database",
        "Health area": "Fragility fracture",
        "Link": "https://portal.ehden.eu/c/EHDEN/fingerprint/196c57563d2bf257b2d04c95e2de9968/1||EHDEN",
        "Organisation name": "https://www.qmul.ac.uk/||Queen Mary University of London"
       },
       {
        "Care type": "Primary",
        "Data set": "ORCHID",
        "Health area": "General",
        "Link": "https://portal.ehden.eu/c/EHDEN/fingerprint/0b4c0353f5804239a804626ccf68161a/1||EHDEN",
        "Organisation name": "https://orchid.phc.ox.ac.uk/surveillance||Oxford University, Royal College of General Practitioners Research and Surveillance Centre"
       },
       {
        "Care type": "Other",
        "Data set": "Covid Vaccination Dataset (CVVD)",
        "Health area": "COVID",
        "Link": "",
        "Organisation name": "https://saildatabank.com/||SAIL Databank"
       },
       {
        "Care type": "Outpatient general practitioner care/Registry",
        "Data set": "National Community Child Health Database (NCCH)",
        "Health area": "",
        "Link": "https://portal.ehden.eu/c/EHDEN/fingerprint/605c3f7a824e54d0095aada07edf163c/1||EHDEN",
        "Organisation name": "https://saildatabank.com/||SAIL Databank"
       },
       {
        "Care type": "Other",
        "Data set": "COVID-19 Test Results (PATD)",
        "Health area": "COVID",
        "Link": "https://portal.ehden.eu/c/EHDEN/fingerprint/2ddf4ed82092b268a014036e41996897/1||EHDEN",
        "Organisation name": "https://saildatabank.com/||SAIL Databank"
       },
       {
        "Care type": "Other",
        "Data set": "Annual District Death Extract (ADDE)",
        "Health area": "Deaths",
        "Link": "https://portal.ehden.eu/c/EHDEN/fingerprint/f0f705f2ade0de7854775111260a2aad/1||EHDEN",
        "Organisation name": "https://saildatabank.com/||SAIL Databank"
       },
       {
        "Care type": "Secondary; Registry",
        "Data set": "Patient Episode Dataset for Wales (PEDW)",
        "Health area": "General",
        "Link": "https://portal.ehden.eu/c/EHDEN/fingerprint/cf7b32bb8cd80d35f57fd6bfacd90289/1/||EHDEN",
        "Organisation name": "https://saildatabank.com/||SAIL Databank"
       },
       {
        "Care type": "Registry",
        "Data set": "Welsh Demographic Service Dataset (WDSD)",
        "Health area": "General",
        "Link": "https://portal.ehden.eu/c/EHDEN/fingerprint/1f2b445f80dd8e7b050fd166c923f630/1||EHDEN",
        "Organisation name": "https://saildatabank.com/||SAIL Databank"
       },
       {
        "Care type": "Outpatient general practitioner care",
        "Data set": "LDN",
        "Health area": "General",
        "Link": "https://portal.ehden.eu/c/EHDEN/fingerprint/910e5bb2ee681bcf68d6c9741306d546/1||EHDEN",
        "Organisation name": "https://www.selondonics.org/icb/||South East London Integrated Care Board"
       },
       {
        "Care type": "Cohort",
        "Data set": "TwinsUK",
        "Health area": "General",
        "Link": "",
        "Organisation name": "https://twinsuk.ac.uk/||TwinsUK"
       },
       {
        "Care type": "Cohort",
        "Data set": "SIREN",
        "Health area": "COVID",
        "Link": "https://www.healthdatagateway.org/||Gateway",
        "Organisation name": "https://www.gov.uk/government/organisations/uk-health-security-agency||UK Health Security Agency"
       },
       {
        "Care type": "Biobank",
        "Data set": "UK Biobank",
        "Health area": "General",
        "Link": "https://portal.ehden.eu/c/EHDEN/fingerprint/cb77f7cbd63289ed371b7a5384bdff33/1||EHDEN",
        "Organisation name": "https://www.ucl.ac.uk/||University College London"
       },
       {
        "Care type": "Cohort",
        "Data set": "VIVALDI 2",
        "Health area": "COVID",
        "Link": "https://www.healthdatagateway.org/||Gateway",
        "Organisation name": "https://www.ucl.ac.uk/||University College London"
       },
       {
        "Care type": "Cohort",
        "Data set": "COVIDsortium",
        "Health area": "COVID",
        "Link": "https://healthdatagateway.org/en/dataset/703||Gateway",
        "Organisation name": "https://www.ucl.ac.uk/||University College London"
       },
       {
        "Care type": "Secondary",
        "Data set": "Critical Care Dataset",
        "Health area": "General",
        "Link": "",
        "Organisation name": "https://www.uclhospitals.brc.nihr.ac.uk/clinical-research-informatics-unit||UCLH"
       },
       {
        "Care type": "Inpatient (hospital) care",
        "Data set": "General Inpatient Dataset (EHDEN)",
        "Health area": "General",
        "Link": "https://portal.ehden.eu/c/EHDEN/fingerprint/9ef2798c0d59a7ed8bc3bdc131ff65c5/1||EHDEN",
        "Organisation name": "https://www.uclhospitals.brc.nihr.ac.uk/clinical-research-informatics-unit||UCLH"
       },
       {
        "Care type": "?Registry",
        "Data set": "Myeloma Dataset",
        "Health area": "Cancer",
        "Link": "",
        "Organisation name": "https://www.uclhospitals.brc.nihr.ac.uk/clinical-research-informatics-unit||UCLH"
       },
       {
        "Care type": "?Registry",
        "Data set": "Sepsis Research Dataset",
        "Health area": "Sepsis",
        "Link": "",
        "Organisation name": "https://www.uclhospitals.brc.nihr.ac.uk/clinical-research-informatics-unit||UCLH"
       },
       {
        "Care type": "?Registry",
        "Data set": "Blood Transfusion and TDA Dataset",
        "Health area": "Blood transfusion",
        "Link": "",
        "Organisation name": "https://www.uclhospitals.brc.nihr.ac.uk/clinical-research-informatics-unit||UCLH"
       },
       {
        "Care type": "Cohort",
        "Data set": "TRACK-COVID",
        "Health area": "COVID",
        "Link": "https://healthdatagateway.org/en/dataset/202||Gateway",
        "Organisation name": "https://www.cam.ac.uk/||University of Cambridge"
       },
       {
        "Care type": "Cohort",
        "Data set": "Follow-COVID",
        "Health area": "COVID",
        "Link": "",
        "Organisation name": "https://www.dundee.ac.uk/hic||University of Dundee Health Informatics Centre (HIC)"
       },
       {
        "Care type": "Cohort",
        "Data set": "MATCH",
        "Health area": "COVID",
        "Link": "",
        "Organisation name": "https://www.dundee.ac.uk/hic||University of Dundee Health Informatics Centre (HIC)"
       },
       {
        "Care type": "Outpatient specialist care/Pharmacy care/Registry/Other",
        "Data set": "HIC",
        "Health area": "",
        "Link": "https://portal.ehden.eu/c/EHDEN/fingerprint/c76284893a8697a6fbdef47ce3613d85/1||EHDEN",
        "Organisation name": "https://www.dundee.ac.uk/hic||University of Dundee Health Informatics Centre (HIC)"
       },
       {
        "Care type": "Secondary",
        "Data set": "Cancer (SESCD)",
        "Health area": "Cancer",
        "Link": "https://portal.ehden.eu/c/EHDEN/fingerprint/2abcc1297ebeccefd93936dd80f4b43b/1||EHDEN",
        "Organisation name": "https://dataloch.org/||University of Edinburgh (DataLoch)"
       },
       {
        "Care type": "Other",
        "Data set": "COVID19",
        "Health area": "COVID",
        "Link": "https://portal.ehden.eu/c/EHDEN/fingerprint/04c214bb6833c62b2164cdc88a983e9a/1||EHDEN",
        "Organisation name": "https://dataloch.org/||University of Edinburgh (DataLoch)"
       },
       {
        "Care type": "",
        "Data set": "EiC dataset",
        "Health area": "",
        "Link": "",
        "Organisation name": "https://dataloch.org/||University of Edinburgh (DataLoch)"
       },
       {
        "Care type": "",
        "Data set": "DECOVID",
        "Health area": "",
        "Link": "",
        "Organisation name": "https://www.uhb.nhs.uk/||University Hospitals Birmingham NHS Foundation Trust "
       },
       {
        "Care type": "",
        "Data set": "TBA",
        "Health area": "",
        "Link": "",
        "Organisation name": "https://www.uhb.nhs.uk/||University Hospitals Birmingham NHS Foundation Trust "
       },
       {
        "Care type": "Cohort",
        "Data set": "ACE",
        "Health area": "COVID",
        "Link": "https://www.healthdatagateway.org/||Gateway",
        "Organisation name": "https://www.nottingham.ac.uk/||University Of Nottingham"
       },
       {
        "Care type": "Cohort",
        "Data set": "PANTHER",
        "Health area": "COVID",
        "Link": "https://healthdatagateway.org/en/dataset/714||Gateway",
        "Organisation name": "https://www.nottingham.ac.uk/||University Of Nottingham"
       },
       {
        "Care type": "Registry",
        "Data set": "GOAL",
        "Health area": "Osteoarthritis",
        "Link": "",
        "Organisation name": "https://www.nottingham.ac.uk/||University Of Nottingham"
       },
       {
        "Care type": "Cohort",
        "Data set": "Omega 3 Cohort",
        "Health area": "Nutrition",
        "Link": "",
        "Organisation name": "https://www.nottingham.ac.uk/||University Of Nottingham"
       },
       {
        "Care type": "",
        "Data set": "COVID",
        "Health area": "",
        "Link": "",
        "Organisation name": "https://wessexhealthpartners.org.uk/||Wessex SNSDE"
       },
       {
        "Care type": "",
        "Data set": "Clinical trials are being considered that have completed",
        "Health area": "",
        "Link": "",
        "Organisation name": "https://wessexhealthpartners.org.uk/||Wessex SNSDE"
       },
       {
        "Care type": "",
        "Data set": "ECRIN",
        "Health area": "",
        "Link": "",
        "Organisation name": "https://wessexhealthpartners.org.uk/||Wessex SNSDE"
       },
       {
        "Care type": "",
        "Data set": "HICS submissions",
        "Health area": "",
        "Link": "",
        "Organisation name": "https://wessexhealthpartners.org.uk/||Wessex SNSDE"
       }
      ],
      "text/plain": [
       "<IPython.core.display.JSON object>"
      ]
     },
     "execution_count": 4,
     "metadata": {
      "application/json": {
       "expanded": false,
       "root": "root"
      }
     },
     "output_type": "execute_result"
    }
   ],
   "source": [
    "JSON(json_dict)"
   ]
  },
  {
   "cell_type": "markdown",
   "id": "e4e4334c-5374-4935-aa4c-a13f5fbbcbea",
   "metadata": {},
   "source": [
    "Can we load it correctly to a `DataFrame` to output to a CSV?"
   ]
  },
  {
   "cell_type": "code",
   "execution_count": 5,
   "id": "8528fe5a-bc29-482d-931b-7e4578b9d694",
   "metadata": {},
   "outputs": [],
   "source": [
    "datasets = pd.read_json(json_file_name, orient='records')"
   ]
  },
  {
   "cell_type": "code",
   "execution_count": 6,
   "id": "4974e37e-c8e3-4222-8c0c-92aaa93fc2d5",
   "metadata": {},
   "outputs": [
    {
     "name": "stdout",
     "output_type": "stream",
     "text": [
      "<class 'pandas.core.frame.DataFrame'>\n",
      "RangeIndex: 88 entries, 0 to 87\n",
      "Data columns (total 5 columns):\n",
      " #   Column             Non-Null Count  Dtype \n",
      "---  ------             --------------  ----- \n",
      " 0   Organisation name  88 non-null     object\n",
      " 1   Data set           88 non-null     object\n",
      " 2   Care type          88 non-null     object\n",
      " 3   Health area        88 non-null     object\n",
      " 4   Link               88 non-null     object\n",
      "dtypes: object(5)\n",
      "memory usage: 3.6+ KB\n"
     ]
    }
   ],
   "source": [
    "datasets.info()"
   ]
  },
  {
   "cell_type": "code",
   "execution_count": 7,
   "id": "0e558066-30d9-415a-b8ad-7a349e03c134",
   "metadata": {},
   "outputs": [],
   "source": [
    "csv_name = 'test.csv'\n",
    "datasets.to_csv(csv_name, index=False)"
   ]
  },
  {
   "cell_type": "code",
   "execution_count": null,
   "id": "470825c4-9f29-4d3f-9de0-233662c0f923",
   "metadata": {},
   "outputs": [],
   "source": []
  }
 ],
 "metadata": {
  "kernelspec": {
   "display_name": "Python 3 (ipykernel)",
   "language": "python",
   "name": "python3"
  },
  "language_info": {
   "codemirror_mode": {
    "name": "ipython",
    "version": 3
   },
   "file_extension": ".py",
   "mimetype": "text/x-python",
   "name": "python",
   "nbconvert_exporter": "python",
   "pygments_lexer": "ipython3",
   "version": "3.8.16"
  }
 },
 "nbformat": 4,
 "nbformat_minor": 5
}
