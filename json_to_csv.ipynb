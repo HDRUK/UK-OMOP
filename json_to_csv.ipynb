{
 "cells": [
  {
   "cell_type": "markdown",
   "id": "b82bc4a2-bd7b-43a9-b112-680ed0677869",
   "metadata": {},
   "source": [
    "Round-trip the JSON data back to CSV"
   ]
  },
  {
   "cell_type": "code",
   "execution_count": 1,
   "id": "88ae9929-ba22-4386-b66e-9a80dead70b8",
   "metadata": {},
   "outputs": [],
   "source": [
    "import pandas as pd\n",
    "from IPython.display import JSON\n",
    "import json"
   ]
  },
  {
   "cell_type": "markdown",
   "id": "c82f99d4-95da-4723-860f-b1d4a3365c12",
   "metadata": {},
   "source": [
    "Load the JSON file"
   ]
  },
  {
   "cell_type": "code",
   "execution_count": 4,
   "id": "fdbfcea3-ac6a-4247-adaf-d23b8e944ac8",
   "metadata": {},
   "outputs": [],
   "source": [
    "json_file_name = 'datasets.json'\n",
    "with open(json_file_name, mode='rt') as json_file_obj:\n",
    "    json_dict = json.load(json_file_obj)\n",
    "    "
   ]
  },
  {
   "cell_type": "code",
   "execution_count": 5,
   "id": "7ccb203e-9536-49fe-a534-f6ad298f134a",
   "metadata": {},
   "outputs": [
    {
     "data": {
      "application/json": [
       {
        "Care type": "Secondary",
        "Data set": "Akrivia (AKRDB)",
        "EHDEN": "https://portal.ehden.eu/||EHDEN",
        "Gateway": "",
        "Health area": "Mental health",
        "Organisation name": "https://akriviahealth.com||Akrivia Health"
       },
       {
        "Care type": "Cohort",
        "Data set": "ALSPAC",
        "EHDEN": "",
        "Gateway": "",
        "Health area": "General",
        "Organisation name": "https://www.bristol.ac.uk/alspac/||Avon Longitudinal Study of Parents and Children"
       },
       {
        "Care type": "Inpatient (hospital) care/Outpatient specialist care/Pharmacy care",
        "Data set": "Barts",
        "EHDEN": "https://portal.ehden.eu/||EHDEN",
        "Gateway": "",
        "Health area": "General",
        "Organisation name": "https://www.bartshealth.nhs.uk/||Barts Health NHS Trust"
       },
       {
        "Care type": "Cohort",
        "Data set": "Genetics of Asthma Severity & Phenotypes",
        "EHDEN": "",
        "Gateway": "",
        "Health area": "Asthma",
        "Organisation name": "https://www.ed.ac.uk/usher/breathe||BREATHE"
       },
       {
        "Care type": "Primary",
        "Data set": "CPRD Aurum",
        "EHDEN": "https://portal.ehden.eu/||EHDEN",
        "Gateway": "",
        "Health area": "General",
        "Organisation name": "https://www.cprd.com/||Clinical Practice Research Datalink"
       },
       {
        "Care type": "Primary + Inpatient",
        "Data set": "CPRD Aurum linked HES APC data",
        "EHDEN": "https://portal.ehden.eu/||EHDEN",
        "Gateway": "",
        "Health area": "General",
        "Organisation name": "https://www.cprd.com/||Clinical Practice Research Datalink"
       },
       {
        "Care type": "Inpatient (hospital) care/Outpatient general practitioner care/Outpatient specialist care/Long term/ skill nursing facility care/Pharmacy care/Other",
        "Data set": "cBradford",
        "EHDEN": "https://portal.ehden.eu/||EHDEN",
        "Gateway": "",
        "Health area": "General",
        "Organisation name": "https://www.bradfordresearch.nhs.uk/our-research-teams/connected-bradford/||Connected Bradford"
       },
       {
        "Care type": "Inpatient",
        "Data set": "HES-APC",
        "EHDEN": "",
        "Gateway": "",
        "Health area": "General",
        "Organisation name": "https://bhfdatasciencecentre.org/||BHF Data Science Centre (CVD-COVID-UK/COVID-IMPACT)"
       },
       {
        "Care type": "Other",
        "Data set": "Death registrations",
        "EHDEN": "",
        "Gateway": "",
        "Health area": "Deaths",
        "Organisation name": "https://bhfdatasciencecentre.org/||BHF Data Science Centre (CVD-COVID-UK/COVID-IMPACT)"
       },
       {
        "Care type": "Primary",
        "Data set": "GPES",
        "EHDEN": "",
        "Gateway": "",
        "Health area": "Pandemic",
        "Organisation name": "https://bhfdatasciencecentre.org/||BHF Data Science Centre (CVD-COVID-UK/COVID-IMPACT)"
       },
       {
        "Care type": "Registry",
        "Data set": "NICOR",
        "EHDEN": "",
        "Gateway": "",
        "Health area": "Heart failure",
        "Organisation name": "https://bhfdatasciencecentre.org/||BHF Data Science Centre (CVD-COVID-UK/COVID-IMPACT)"
       },
       {
        "Care type": "Primary",
        "Data set": "Discover-NOW",
        "EHDEN": "",
        "Gateway": "",
        "Health area": "General",
        "Organisation name": "https://discover-now.co.uk/||Discover-NOW"
       },
       {
        "Care type": "?",
        "Data set": "?",
        "EHDEN": "",
        "Gateway": "",
        "Health area": "?",
        "Organisation name": "https://healthinnovationeast.co.uk/||Eastern AHSN (Academic Health Science Network)"
       },
       {
        "Care type": "Cohort",
        "Data set": "GS:SFHS",
        "EHDEN": "",
        "Gateway": "",
        "Health area": "General",
        "Organisation name": "https://www.ed.ac.uk/generation-scotland||Generation Scotland"
       },
       {
        "Care type": "Various",
        "Data set": "NHSD HES datasets",
        "EHDEN": "",
        "Gateway": "",
        "Health area": "Cancer, rare diseases, COVID",
        "Organisation name": "https://www.genomicsengland.co.uk/||Genomics England"
       },
       {
        "Care type": "",
        "Data set": "100,000 Genomes",
        "EHDEN": "",
        "Gateway": "https://www.healthdatagateway.org/||Gateway",
        "Health area": "",
        "Organisation name": "https://www.genomicsengland.co.uk/||Genomics England"
       },
       {
        "Care type": "",
        "Data set": "Internal Cancer and Rare Disease datasets",
        "EHDEN": "",
        "Gateway": "",
        "Health area": "",
        "Organisation name": "https://www.genomicsengland.co.uk/||Genomics England"
       },
       {
        "Care type": "",
        "Data set": "NCRAS",
        "EHDEN": "",
        "Gateway": "",
        "Health area": "",
        "Organisation name": "https://www.genomicsengland.co.uk/||Genomics England"
       },
       {
        "Care type": "",
        "Data set": "NHSD Cancer datasets",
        "EHDEN": "",
        "Gateway": "",
        "Health area": "",
        "Organisation name": "https://www.genomicsengland.co.uk/||Genomics England"
       },
       {
        "Care type": "",
        "Data set": "UKHSA COVID Test Results",
        "EHDEN": "",
        "Gateway": "",
        "Health area": "",
        "Organisation name": "https://www.genomicsengland.co.uk/||Genomics England"
       },
       {
        "Care type": "Secondary",
        "Data set": "GOSH Epic data (2019-2023) demographics, visits, medication administrations, diagnoses, procedures",
        "EHDEN": "",
        "Gateway": "",
        "Health area": "Paediatric",
        "Organisation name": "https://www.gosh.nhs.uk/||Great Ormond Street Hospital"
       },
       {
        "Care type": "Cohort",
        "Data set": "Co-STARS",
        "EHDEN": "",
        "Gateway": "https://www.healthdatagateway.org/||Gateway",
        "Health area": "COVID",
        "Organisation name": "https://www.gosh.nhs.uk/||Great Ormond Street Hospital"
       },
       {
        "Care type": "Registry",
        "Data set": "NHIC RENAL GSTT",
        "EHDEN": "https://portal.ehden.eu/||EHDEN",
        "Gateway": "",
        "Health area": "Renal transplantation",
        "Organisation name": "https://www.guysandstthomas.nhs.uk/||Guy’s & St Thomas’ Hospital NHS Foundation Trust"
       },
       {
        "Care type": "Secondary",
        "Data set": "HES",
        "EHDEN": "https://portal.ehden.eu/||EHDEN",
        "Gateway": "",
        "Health area": "General",
        "Organisation name": "https://www.harveywalsh.co.uk/||Harvey Walsh Ltd"
       },
       {
        "Care type": "Primary, Secondary, Tertiary",
        "Data set": "ICHT Core Data",
        "EHDEN": "",
        "Gateway": "",
        "Health area": "General",
        "Organisation name": "https://www.imperial.nhs.uk/||Imperial College Healthcare NHS Trust"
       },
       {
        "Care type": "Cohort",
        "Data set": "REACT-2",
        "EHDEN": "",
        "Gateway": "https://www.healthdatagateway.org/||Gateway",
        "Health area": "COVID",
        "Organisation name": "https://www.imperial.ac.uk/||Imperial College London"
       },
       {
        "Care type": "Secondary +",
        "Data set": "NNRD",
        "EHDEN": "https://portal.ehden.eu/||EHDEN",
        "Gateway": "https://www.healthdatagateway.org/||Gateway",
        "Health area": "Neonatal",
        "Organisation name": "https://www.imperial.ac.uk/neonatal-data-analysis-unit/neonatal-data-analysis-unit/||Imperial College London"
       },
       {
        "Care type": "",
        "Data set": "IMRD",
        "EHDEN": "",
        "Gateway": "",
        "Health area": "",
        "Organisation name": "https://www.iqvia.com/||IQVIA"
       },
       {
        "Care type": "Registry",
        "Data set": "CO-CIN",
        "EHDEN": "",
        "Gateway": "",
        "Health area": "COVID",
        "Organisation name": "https://isaric4c.net/||ISARIC4C"
       },
       {
        "Care type": "Registry",
        "Data set": "SLSR",
        "EHDEN": "https://portal.ehden.eu/||EHDEN",
        "Gateway": "",
        "Health area": "Stroke",
        "Organisation name": "https://www.kcl.ac.uk/research/stroke-research-group||King's College London/Guy's and St Thomas' NHS Foundation Trust"
       },
       {
        "Care type": "Secondary,General EHR, Cancer, Drugs, Devices",
        "Data set": "IDRIL-1",
        "EHDEN": "",
        "Gateway": "",
        "Health area": "https://portal.ehden.eu/||EHDEN",
        "Organisation name": "https://www.lancsteachinghospitals.nhs.uk/||Lancashire Teaching Hospitals NHS Foundation Trust"
       },
       {
        "Care type": "Inpatient (hospital) care",
        "Data set": "LTHT",
        "EHDEN": "https://portal.ehden.eu/||EHDEN",
        "Gateway": "",
        "Health area": "General",
        "Organisation name": "https://www.leedsth.nhs.uk/||Leeds Teaching Hospitals NHS Trust"
       },
       {
        "Care type": "Registry",
        "Data set": "National Joint Registry NJR",
        "EHDEN": "",
        "Gateway": "",
        "Health area": "Joint replacement",
        "Organisation name": "https://www.njrcentre.org.uk/||National Joint Registry (HQIP)"
       },
       {
        "Care type": "Biobank",
        "Data set": "Sample holding",
        "EHDEN": "",
        "Gateway": "",
        "Health area": "General",
        "Organisation name": "https://bioresource.nihr.ac.uk/||NIHR BioResource"
       },
       {
        "Care type": "Outpatient general practitioner care",
        "Data set": "Optimum Patient Care Research Database",
        "EHDEN": "https://portal.ehden.eu/||EHDEN",
        "Gateway": "https://www.healthdatagateway.org/||Gateway",
        "Health area": "General",
        "Organisation name": "https://www.optimumpatientcare.org/||Optimum Patient Care"
       },
       {
        "Care type": "Cohort",
        "Data set": "Oxford Healthcare Workers",
        "EHDEN": "",
        "Gateway": "https://www.healthdatagateway.org/||Gateway",
        "Health area": "COVID",
        "Organisation name": "https://www.ouh.nhs.uk/||Oxford University Hospitals"
       },
       {
        "Care type": "Registry",
        "Data set": "CRP",
        "EHDEN": "",
        "Gateway": "https://www.healthdatagateway.org/||Gateway",
        "Health area": "COVID",
        "Organisation name": "https://www.pioneerdatahub.co.uk/||PIONEER"
       },
       {
        "Care type": "Registry",
        "Data set": "Hospital COVID patients",
        "EHDEN": "",
        "Gateway": "",
        "Health area": "COVID",
        "Organisation name": "https://www.pioneerdatahub.co.uk/||PIONEER"
       },
       {
        "Care type": "Registry",
        "Data set": "Ventilatory strategies and outcomes",
        "EHDEN": "",
        "Gateway": "",
        "Health area": "COVID",
        "Organisation name": "https://www.pioneerdatahub.co.uk/||PIONEER"
       },
       {
        "Care type": "Registry",
        "Data set": "COPD",
        "EHDEN": "",
        "Gateway": "",
        "Health area": "COVID",
        "Organisation name": "https://www.pioneerdatahub.co.uk/||PIONEER"
       },
       {
        "Care type": "Registry",
        "Data set": "Coagulopathies & thrombosis",
        "EHDEN": "",
        "Gateway": "",
        "Health area": "COVID",
        "Organisation name": "https://www.pioneerdatahub.co.uk/||PIONEER"
       },
       {
        "Care type": "Registry",
        "Data set": "Scottish Cancer Registry (SMR06)",
        "EHDEN": "",
        "Gateway": "",
        "Health area": "Cancer",
        "Organisation name": "https://publichealthscotland.scot/||Public Health Scotland"
       },
       {
        "Care type": "Secondary",
        "Data set": "Scottish Morbidity Record (SMR00)",
        "EHDEN": "",
        "Gateway": "",
        "Health area": "General",
        "Organisation name": "https://publichealthscotland.scot/||Public Health Scotland"
       },
       {
        "Care type": "Other",
        "Data set": "NRS - Deaths Data",
        "EHDEN": "",
        "Gateway": "",
        "Health area": "Deaths",
        "Organisation name": "https://publichealthscotland.scot/||Public Health Scotland"
       },
       {
        "Care type": "Other",
        "Data set": "COVID Tests",
        "EHDEN": "",
        "Gateway": "",
        "Health area": "COVID",
        "Organisation name": "https://publichealthscotland.scot/||Public Health Scotland"
       },
       {
        "Care type": "Other",
        "Data set": "Scottish Covid-19 Vaccination Data",
        "EHDEN": "",
        "Gateway": "",
        "Health area": "COVID",
        "Organisation name": "https://publichealthscotland.scot/||Public Health Scotland"
       },
       {
        "Care type": "Registry",
        "Data set": "National Hip Fracture Database (England and Wales)",
        "EHDEN": "https://portal.ehden.eu/||EHDEN",
        "Gateway": "",
        "Health area": "Hip fractures",
        "Organisation name": "https://www.qmul.ac.uk/||Queen Mary University of London"
       },
       {
        "Care type": "Registry",
        "Data set": "Fracture Liaison Service Database",
        "EHDEN": "https://portal.ehden.eu/||EHDEN",
        "Gateway": "",
        "Health area": "Fragility fracture",
        "Organisation name": "https://www.qmul.ac.uk/||Queen Mary University of London"
       },
       {
        "Care type": "Primary",
        "Data set": "ORCHID",
        "EHDEN": "https://portal.ehden.eu/||EHDEN",
        "Gateway": "",
        "Health area": "General",
        "Organisation name": "https://orchid.phc.ox.ac.uk/surveillance||Oxford University, Royal College of General Practitioners Research and Surveillance Centre"
       },
       {
        "Care type": "Other",
        "Data set": "Covid Vaccination Dataset (CVVD)",
        "EHDEN": "",
        "Gateway": "",
        "Health area": "COVID",
        "Organisation name": "https://saildatabank.com/||SAIL Databank"
       },
       {
        "Care type": "Outpatient general practitioner care/Registry",
        "Data set": "NCCH",
        "EHDEN": "https://portal.ehden.eu/||EHDEN",
        "Gateway": "",
        "Health area": "",
        "Organisation name": "https://saildatabank.com/||SAIL Databank"
       },
       {
        "Care type": "Other",
        "Data set": "COVID-19 Test Results (PATD)",
        "EHDEN": "https://portal.ehden.eu/||EHDEN",
        "Gateway": "",
        "Health area": "COVID",
        "Organisation name": "https://saildatabank.com/||SAIL Databank"
       },
       {
        "Care type": "Outpatient general practitioner care",
        "Data set": "LDN",
        "EHDEN": "https://portal.ehden.eu/||EHDEN",
        "Gateway": "",
        "Health area": "General",
        "Organisation name": "https://www.selondonics.org/icb/||South East London Integrated Care Board"
       },
       {
        "Care type": "Cohort",
        "Data set": "TwinsUK",
        "EHDEN": "",
        "Gateway": "",
        "Health area": "General",
        "Organisation name": "https://twinsuk.ac.uk/||TwinsUK"
       },
       {
        "Care type": "Cohort",
        "Data set": "SIREN",
        "EHDEN": "",
        "Gateway": "https://www.healthdatagateway.org/||Gateway",
        "Health area": "COVID",
        "Organisation name": "https://www.gov.uk/government/organisations/uk-health-security-agency||UK Health Security Agency"
       },
       {
        "Care type": "Biobank",
        "Data set": "UK Biobank",
        "EHDEN": "https://portal.ehden.eu/||EHDEN",
        "Gateway": "",
        "Health area": "General",
        "Organisation name": "https://www.ucl.ac.uk/||University College London"
       },
       {
        "Care type": "Cohort",
        "Data set": "VIVALDI 2",
        "EHDEN": "",
        "Gateway": "https://www.healthdatagateway.org/||Gateway",
        "Health area": "COVID",
        "Organisation name": "https://www.ucl.ac.uk/||University College London"
       },
       {
        "Care type": "Cohort",
        "Data set": "COVIDsortium",
        "EHDEN": "",
        "Gateway": "https://www.healthdatagateway.org/||Gateway",
        "Health area": "COVID",
        "Organisation name": "https://www.ucl.ac.uk/||University College London"
       },
       {
        "Care type": "Secondary",
        "Data set": "Critical Care Dataset",
        "EHDEN": "",
        "Gateway": "",
        "Health area": "General",
        "Organisation name": "https://www.uclhospitals.brc.nihr.ac.uk/clinical-research-informatics-unit||UCLH"
       },
       {
        "Care type": "Inpatient (hospital) care",
        "Data set": "General Inpatient Dataset (EHDEN)",
        "EHDEN": "https://portal.ehden.eu/||EHDEN",
        "Gateway": "",
        "Health area": "General",
        "Organisation name": "https://www.uclhospitals.brc.nihr.ac.uk/clinical-research-informatics-unit||UCLH"
       },
       {
        "Care type": "?Registry",
        "Data set": "Myeloma Dataset",
        "EHDEN": "",
        "Gateway": "",
        "Health area": "Cancer",
        "Organisation name": "https://www.uclhospitals.brc.nihr.ac.uk/clinical-research-informatics-unit||UCLH"
       },
       {
        "Care type": "?Registry",
        "Data set": "Sepsis Research Dataset",
        "EHDEN": "",
        "Gateway": "",
        "Health area": "Sepsis",
        "Organisation name": "https://www.uclhospitals.brc.nihr.ac.uk/clinical-research-informatics-unit||UCLH"
       },
       {
        "Care type": "?Registry",
        "Data set": "Blood Transfusion and TDA Dataset",
        "EHDEN": "",
        "Gateway": "",
        "Health area": "Blood transfusion",
        "Organisation name": "https://www.uclhospitals.brc.nihr.ac.uk/clinical-research-informatics-unit||UCLH"
       },
       {
        "Care type": "Cohort",
        "Data set": "TRACK-COVID",
        "EHDEN": "",
        "Gateway": "https://www.healthdatagateway.org/||Gateway",
        "Health area": "COVID",
        "Organisation name": "https://www.cam.ac.uk/||University of Cambridge"
       },
       {
        "Care type": "Cohort",
        "Data set": "Follow-COVID",
        "EHDEN": "",
        "Gateway": "",
        "Health area": "COVID",
        "Organisation name": "https://www.dundee.ac.uk/hic||University of Dundee Health Informatics Centre (HIC)"
       },
       {
        "Care type": "Cohort",
        "Data set": "MATCH",
        "EHDEN": "",
        "Gateway": "",
        "Health area": "COVID",
        "Organisation name": "https://www.dundee.ac.uk/hic||University of Dundee Health Informatics Centre (HIC)"
       },
       {
        "Care type": "Outpatient specialist care/Pharmacy care/Registry/Other",
        "Data set": "HIC",
        "EHDEN": "https://portal.ehden.eu/||EHDEN",
        "Gateway": "",
        "Health area": "",
        "Organisation name": "https://www.dundee.ac.uk/hic||University of Dundee Health Informatics Centre (HIC)"
       },
       {
        "Care type": "Secondary",
        "Data set": "Cancer (SESCD)",
        "EHDEN": "",
        "Gateway": "https://www.healthdatagateway.org/||Gateway",
        "Health area": "Cancer",
        "Organisation name": "https://dataloch.org/||University of Edinburgh (DataLoch)"
       },
       {
        "Care type": "Other",
        "Data set": "COVID19",
        "EHDEN": "https://portal.ehden.eu/||EHDEN",
        "Gateway": "",
        "Health area": "COVID",
        "Organisation name": "https://dataloch.org/||University of Edinburgh (DataLoch)"
       },
       {
        "Care type": "",
        "Data set": "EiC dataset",
        "EHDEN": "",
        "Gateway": "",
        "Health area": "",
        "Organisation name": "https://dataloch.org/||University of Edinburgh (DataLoch)"
       },
       {
        "Care type": "",
        "Data set": "DECOVID",
        "EHDEN": "",
        "Gateway": "",
        "Health area": "",
        "Organisation name": "https://www.uhb.nhs.uk/||University Hospitals Birmingham NHS Foundation Trust "
       },
       {
        "Care type": "",
        "Data set": "TBA",
        "EHDEN": "",
        "Gateway": "",
        "Health area": "",
        "Organisation name": "https://www.uhb.nhs.uk/||University Hospitals Birmingham NHS Foundation Trust "
       },
       {
        "Care type": "Cohort",
        "Data set": "ACE",
        "EHDEN": "",
        "Gateway": "https://www.healthdatagateway.org/||Gateway",
        "Health area": "COVID",
        "Organisation name": "https://www.nottingham.ac.uk/||University Of Nottingham"
       },
       {
        "Care type": "Cohort",
        "Data set": "PANTHER",
        "EHDEN": "",
        "Gateway": "https://www.healthdatagateway.org/||Gateway",
        "Health area": "COVID",
        "Organisation name": "https://www.nottingham.ac.uk/||University Of Nottingham"
       },
       {
        "Care type": "Registry",
        "Data set": "GOAL",
        "EHDEN": "",
        "Gateway": "",
        "Health area": "Osteoarthritis",
        "Organisation name": "https://www.nottingham.ac.uk/||University Of Nottingham"
       },
       {
        "Care type": "Cohort",
        "Data set": "Omega 3 Cohort",
        "EHDEN": "",
        "Gateway": "",
        "Health area": "Nutrition",
        "Organisation name": "https://www.nottingham.ac.uk/||University Of Nottingham"
       },
       {
        "Care type": "",
        "Data set": "COVID",
        "EHDEN": "",
        "Gateway": "",
        "Health area": "",
        "Organisation name": "https://wessexhealthpartners.org.uk/||Wessex SNSDE"
       },
       {
        "Care type": "",
        "Data set": "Clinical trials are being considered that have completed",
        "EHDEN": "",
        "Gateway": "",
        "Health area": "",
        "Organisation name": "https://wessexhealthpartners.org.uk/||Wessex SNSDE"
       },
       {
        "Care type": "",
        "Data set": "ECRIN",
        "EHDEN": "",
        "Gateway": "",
        "Health area": "",
        "Organisation name": "https://wessexhealthpartners.org.uk/||Wessex SNSDE"
       },
       {
        "Care type": "",
        "Data set": "HICS submissions",
        "EHDEN": "",
        "Gateway": "",
        "Health area": "",
        "Organisation name": "https://wessexhealthpartners.org.uk/||Wessex SNSDE"
       }
      ],
      "text/plain": [
       "<IPython.core.display.JSON object>"
      ]
     },
     "execution_count": 5,
     "metadata": {
      "application/json": {
       "expanded": false,
       "root": "root"
      }
     },
     "output_type": "execute_result"
    }
   ],
   "source": [
    "JSON(json_dict)"
   ]
  },
  {
   "cell_type": "markdown",
   "id": "e4e4334c-5374-4935-aa4c-a13f5fbbcbea",
   "metadata": {},
   "source": [
    "Can we load it correctly to a `DataFrame` to output to a CSV?"
   ]
  },
  {
   "cell_type": "code",
   "execution_count": 6,
   "id": "8528fe5a-bc29-482d-931b-7e4578b9d694",
   "metadata": {},
   "outputs": [],
   "source": [
    "datasets = pd.read_json(json_file_name, orient='records')"
   ]
  },
  {
   "cell_type": "code",
   "execution_count": 7,
   "id": "4974e37e-c8e3-4222-8c0c-92aaa93fc2d5",
   "metadata": {},
   "outputs": [
    {
     "name": "stdout",
     "output_type": "stream",
     "text": [
      "<class 'pandas.core.frame.DataFrame'>\n",
      "RangeIndex: 80 entries, 0 to 79\n",
      "Data columns (total 6 columns):\n",
      " #   Column             Non-Null Count  Dtype \n",
      "---  ------             --------------  ----- \n",
      " 0   Organisation name  80 non-null     object\n",
      " 1   Data set           80 non-null     object\n",
      " 2   Care type          80 non-null     object\n",
      " 3   Health area        80 non-null     object\n",
      " 4   EHDEN              80 non-null     object\n",
      " 5   Gateway            80 non-null     object\n",
      "dtypes: object(6)\n",
      "memory usage: 3.9+ KB\n"
     ]
    }
   ],
   "source": [
    "datasets.info()"
   ]
  },
  {
   "cell_type": "code",
   "execution_count": 10,
   "id": "0e558066-30d9-415a-b8ad-7a349e03c134",
   "metadata": {},
   "outputs": [],
   "source": [
    "csv_name = 'test.csv'\n",
    "datasets.to_csv(csv_name, index=False)"
   ]
  }
 ],
 "metadata": {
  "kernelspec": {
   "display_name": "Python 3 (ipykernel)",
   "language": "python",
   "name": "python3"
  },
  "language_info": {
   "codemirror_mode": {
    "name": "ipython",
    "version": 3
   },
   "file_extension": ".py",
   "mimetype": "text/x-python",
   "name": "python",
   "nbconvert_exporter": "python",
   "pygments_lexer": "ipython3",
   "version": "3.8.16"
  }
 },
 "nbformat": 4,
 "nbformat_minor": 5
}
