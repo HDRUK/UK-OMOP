{
 "cells": [
  {
   "cell_type": "markdown",
   "id": "be7d58a6-001d-4271-bf8c-2f32269a7a28",
   "metadata": {},
   "source": [
    "# UK OMOP Dataset Table\n",
    "Convert the CSV file to JSON format for GitHub."
   ]
  },
  {
   "cell_type": "code",
   "execution_count": 1,
   "id": "d17fb8a3-12f5-47a4-9589-d1baf5730a5a",
   "metadata": {},
   "outputs": [],
   "source": [
    "import pandas as pd\n",
    "from IPython.display import JSON\n",
    "import json"
   ]
  },
  {
   "cell_type": "markdown",
   "id": "3a1ee3db-2635-4e67-addc-71f9dece5594",
   "metadata": {},
   "source": [
    "Import CSV file"
   ]
  },
  {
   "cell_type": "code",
   "execution_count": 2,
   "id": "17447c36-688e-44c7-8e7b-2b4acead4e7e",
   "metadata": {},
   "outputs": [],
   "source": [
    "source_file_name = 'Dataset_Table.csv'"
   ]
  },
  {
   "cell_type": "code",
   "execution_count": 3,
   "id": "45444ebd-b84e-4044-a4a5-bbd6b521937a",
   "metadata": {},
   "outputs": [],
   "source": [
    "# output.to_csv('Dataset_Table.csv', index=False)"
   ]
  },
  {
   "cell_type": "code",
   "execution_count": 4,
   "id": "e43f1996-e0ac-4224-a10b-a140ced137a1",
   "metadata": {},
   "outputs": [
    {
     "name": "stdout",
     "output_type": "stream",
     "text": [
      "<class 'pandas.core.frame.DataFrame'>\n",
      "RangeIndex: 86 entries, 0 to 85\n",
      "Data columns (total 5 columns):\n",
      " #   Column             Non-Null Count  Dtype \n",
      "---  ------             --------------  ----- \n",
      " 0   Organisation name  86 non-null     object\n",
      " 1   Data set           86 non-null     object\n",
      " 2   Care type          73 non-null     object\n",
      " 3   Health area        71 non-null     object\n",
      " 4   Link               45 non-null     object\n",
      "dtypes: object(5)\n",
      "memory usage: 3.5+ KB\n"
     ]
    }
   ],
   "source": [
    "table = pd.read_csv(source_file_name)\n",
    "table.info()"
   ]
  },
  {
   "cell_type": "markdown",
   "id": "a945b5fd-f88a-40ad-ba67-5c508ec6576b",
   "metadata": {},
   "source": [
    "Convert \"missing\" values from `nan` to empty strings (`\"\"`) for JSON output."
   ]
  },
  {
   "cell_type": "code",
   "execution_count": 5,
   "id": "776c54cc-597a-4f67-9899-383efc6116fc",
   "metadata": {},
   "outputs": [
    {
     "name": "stdout",
     "output_type": "stream",
     "text": [
      "<class 'pandas.core.frame.DataFrame'>\n",
      "RangeIndex: 86 entries, 0 to 85\n",
      "Data columns (total 5 columns):\n",
      " #   Column             Non-Null Count  Dtype \n",
      "---  ------             --------------  ----- \n",
      " 0   Organisation name  86 non-null     object\n",
      " 1   Data set           86 non-null     object\n",
      " 2   Care type          86 non-null     object\n",
      " 3   Health area        86 non-null     object\n",
      " 4   Link               86 non-null     object\n",
      "dtypes: object(5)\n",
      "memory usage: 3.5+ KB\n"
     ]
    }
   ],
   "source": [
    "table.fillna(\"\", inplace=True)\n",
    "table.info()"
   ]
  },
  {
   "cell_type": "markdown",
   "id": "a50ed5d6-f78e-47bd-9b19-8816a219f7ed",
   "metadata": {},
   "source": [
    "Convert tabular data to JSON string format and a JSON `dict`:"
   ]
  },
  {
   "cell_type": "code",
   "execution_count": 6,
   "id": "06cf263d-cb9c-4454-92c2-26519b5e00aa",
   "metadata": {},
   "outputs": [],
   "source": [
    "json_str = table.to_json(orient='records')"
   ]
  },
  {
   "cell_type": "code",
   "execution_count": 7,
   "id": "e8f8f7a6-8ce0-42c8-b6ff-74751d1098a7",
   "metadata": {},
   "outputs": [],
   "source": [
    "json_dict = json.loads(json_str)"
   ]
  },
  {
   "cell_type": "markdown",
   "id": "a18b35c4-b3e5-4995-be12-a73dae354487",
   "metadata": {},
   "source": [
    "Display the JSON data interactively:"
   ]
  },
  {
   "cell_type": "code",
   "execution_count": 9,
   "id": "7a2f6418-d70f-437f-9691-c5bf0a67ef7a",
   "metadata": {},
   "outputs": [
    {
     "data": {
      "application/json": [
       {
        "Care type": "Secondary",
        "Data set": "Akrivia (AKRDB)",
        "Health area": "Mental health",
        "Link": "https://portal.ehden.eu/c/EHDEN/fingerprint/caad32dbaf29a090f971402f0914e6b9/1||EHDEN",
        "Organisation name": "https://akriviahealth.com||Akrivia Health"
       },
       {
        "Care type": "Cohort",
        "Data set": "ALSPAC",
        "Health area": "General",
        "Link": "",
        "Organisation name": "https://www.bristol.ac.uk/alspac/||Avon Longitudinal Study of Parents and Children"
       },
       {
        "Care type": "Inpatient (hospital) care/Outpatient specialist care/Pharmacy care",
        "Data set": "Barts",
        "Health area": "General",
        "Link": "https://portal.ehden.eu/c/EHDEN/fingerprint/a3561d0de114192ece978577133a3ce1/1||EHDEN",
        "Organisation name": "https://www.bartshealth.nhs.uk/||Barts Health NHS Trust"
       },
       {
        "Care type": "Barts Health NHS OMOP Dataset",
        "Data set": "Barts Health NHS OMOP Dataset",
        "Health area": "General",
        "Link": "https://healthdatagateway.org/en/dataset/1098||Gateway",
        "Organisation name": "https://www.bartshealth.nhs.uk/||Barts Health NHS Trust"
       },
       {
        "Care type": "Cohort",
        "Data set": "Genetics of Asthma Severity & Phenotypes",
        "Health area": "Asthma",
        "Link": "",
        "Organisation name": "https://www.ed.ac.uk/usher/breathe||BREATHE"
       },
       {
        "Care type": "Primary",
        "Data set": "CPRD Aurum",
        "Health area": "General",
        "Link": "https://portal.ehden.eu/c/EHDEN/fingerprint/f7a9bbcb9d908083f88d1c00e40f1c9b/1||EHDEN",
        "Organisation name": "https://www.cprd.com/||Clinical Practice Research Datalink"
       },
       {
        "Care type": "Primary + Inpatient",
        "Data set": "CPRD Aurum linked HES APC data",
        "Health area": "General",
        "Link": "https://portal.ehden.eu/c/EHDEN/fingerprint/53ba7e0463ee61834cf1202a4797edfe/1||EHDEN",
        "Organisation name": "https://www.cprd.com/||Clinical Practice Research Datalink"
       },
       {
        "Care type": "Primary",
        "Data set": "CPRD Primary Care OMOP Common Data Model",
        "Health area": "General",
        "Link": "https://healthdatagateway.org/en/dataset/1100||Gateway",
        "Organisation name": "https://www.cprd.com/||Clinical Practice Research Datalink"
       },
       {
        "Care type": "Primary + Linked",
        "Data set": "CPRD Primary Care and Linked Data OMOP Common Data Model",
        "Health area": "General",
        "Link": "https://healthdatagateway.org/en/dataset/1099||Gateway",
        "Organisation name": "https://www.cprd.com/||Clinical Practice Research Datalink"
       },
       {
        "Care type": "Inpatient (hospital) care/Outpatient general practitioner care/Outpatient specialist care/Long term/ skill nursing facility care/Pharmacy care/Other",
        "Data set": "cBradford",
        "Health area": "General",
        "Link": "https://portal.ehden.eu/c/EHDEN/fingerprint/1cc558a55bc0d14901eeea1f499ecfff/1||EHDEN",
        "Organisation name": "https://www.bradfordresearch.nhs.uk/our-research-teams/connected-bradford/||Connected Bradford"
       },
       {
        "Care type": "Inpatient",
        "Data set": "HES-APC",
        "Health area": "General",
        "Link": "",
        "Organisation name": "https://bhfdatasciencecentre.org/||BHF Data Science Centre (CVD-COVID-UK/COVID-IMPACT)"
       },
       {
        "Care type": "Other",
        "Data set": "Death registrations",
        "Health area": "Deaths",
        "Link": "",
        "Organisation name": "https://bhfdatasciencecentre.org/||BHF Data Science Centre (CVD-COVID-UK/COVID-IMPACT)"
       },
       {
        "Care type": "Primary",
        "Data set": "GPES",
        "Health area": "Pandemic",
        "Link": "",
        "Organisation name": "https://bhfdatasciencecentre.org/||BHF Data Science Centre (CVD-COVID-UK/COVID-IMPACT)"
       },
       {
        "Care type": "Registry",
        "Data set": "NICOR",
        "Health area": "Heart failure",
        "Link": "",
        "Organisation name": "https://bhfdatasciencecentre.org/||BHF Data Science Centre (CVD-COVID-UK/COVID-IMPACT)"
       },
       {
        "Care type": "Primary",
        "Data set": "Discover-NOW",
        "Health area": "General",
        "Link": "",
        "Organisation name": "https://discover-now.co.uk/||Discover-NOW"
       },
       {
        "Care type": "?",
        "Data set": "?",
        "Health area": "?",
        "Link": "",
        "Organisation name": "https://healthinnovationeast.co.uk/||Eastern AHSN (Academic Health Science Network)"
       },
       {
        "Care type": "Cohort",
        "Data set": "GS:SFHS",
        "Health area": "General",
        "Link": "",
        "Organisation name": "https://www.ed.ac.uk/generation-scotland||Generation Scotland"
       },
       {
        "Care type": "Various",
        "Data set": "NHSD HES datasets",
        "Health area": "Cancer, rare diseases, COVID",
        "Link": "",
        "Organisation name": "https://www.genomicsengland.co.uk/||Genomics England"
       },
       {
        "Care type": "",
        "Data set": "100,000 Genomes",
        "Health area": "",
        "Link": "https://healthdatagateway.org/en/dataset/373||Gateway",
        "Organisation name": "https://www.genomicsengland.co.uk/||Genomics England"
       },
       {
        "Care type": "",
        "Data set": "Internal Cancer and Rare Disease datasets",
        "Health area": "",
        "Link": "",
        "Organisation name": "https://www.genomicsengland.co.uk/||Genomics England"
       },
       {
        "Care type": "",
        "Data set": "NCRAS",
        "Health area": "",
        "Link": "",
        "Organisation name": "https://www.genomicsengland.co.uk/||Genomics England"
       },
       {
        "Care type": "",
        "Data set": "NHSD Cancer datasets",
        "Health area": "",
        "Link": "",
        "Organisation name": "https://www.genomicsengland.co.uk/||Genomics England"
       },
       {
        "Care type": "",
        "Data set": "UKHSA COVID Test Results",
        "Health area": "",
        "Link": "",
        "Organisation name": "https://www.genomicsengland.co.uk/||Genomics England"
       },
       {
        "Care type": "Secondary",
        "Data set": "GOSH DRE",
        "Health area": "Paediatric",
        "Link": "https://portal.ehden.eu/c/EHDEN/fingerprint/ab2b17e951004da0ae77fffa19736204/1||EHDEN",
        "Organisation name": "https://www.gosh.nhs.uk/||Great Ormond Street Hospital"
       },
       {
        "Care type": "Cohort",
        "Data set": "Co-STARS",
        "Health area": "COVID",
        "Link": "https://healthdatagateway.org/en/dataset/401||Gateway",
        "Organisation name": "https://www.gosh.nhs.uk/||Great Ormond Street Hospital"
       },
       {
        "Care type": "Registry",
        "Data set": "NHIC RENAL GSTT",
        "Health area": "Renal transplantation",
        "Link": "https://portal.ehden.eu/c/EHDEN/fingerprint/65fd0722b9fc9d3ec0eb82c8479bc16a/1||EHDEN",
        "Organisation name": "https://www.guysandstthomas.nhs.uk/||Guy's & St Thomas' Hospital NHS Foundation Trust"
       },
       {
        "Care type": "Secondary",
        "Data set": "HES",
        "Health area": "General",
        "Link": "https://portal.ehden.eu/c/EHDEN/fingerprint/718459ab74b2618296afff1f2762c38d/1||EHDEN",
        "Organisation name": "https://www.harveywalsh.co.uk/||Harvey Walsh Ltd"
       },
       {
        "Care type": "Primary, Secondary, Tertiary",
        "Data set": "ICHT Core Data",
        "Health area": "General",
        "Link": "",
        "Organisation name": "https://www.imperial.nhs.uk/||Imperial College Healthcare NHS Trust"
       },
       {
        "Care type": "Cohort",
        "Data set": "REACT-2",
        "Health area": "COVID",
        "Link": "https://www.healthdatagateway.org/||Gateway",
        "Organisation name": "https://www.imperial.ac.uk/||Imperial College London"
       },
       {
        "Care type": "Secondary +",
        "Data set": "NNRD",
        "Health area": "Neonatal",
        "Link": "https://portal.ehden.eu/c/EHDEN/fingerprint/17c21e5d374151a1d9a95ce2cf5fcbb8/1||EHDEN",
        "Organisation name": "https://www.imperial.ac.uk/neonatal-data-analysis-unit/neonatal-data-analysis-unit/||Imperial College London"
       },
       {
        "Care type": "",
        "Data set": "IMRD",
        "Health area": "",
        "Link": "",
        "Organisation name": "https://www.iqvia.com/||IQVIA"
       },
       {
        "Care type": "Registry",
        "Data set": "CO-CIN",
        "Health area": "COVID",
        "Link": "",
        "Organisation name": "https://isaric4c.net/||ISARIC4C"
       },
       {
        "Care type": "Registry",
        "Data set": "SLSR",
        "Health area": "Stroke",
        "Link": "https://portal.ehden.eu/c/EHDEN/fingerprint/1464853b41bd7b41eb31b650272f9037/1||EHDEN",
        "Organisation name": "https://www.kcl.ac.uk/research/stroke-research-group||King's College London/Guy's and St Thomas' NHS Foundation Trust"
       },
       {
        "Care type": "Secondary, General EHR",
        "Data set": "IDRIL-1",
        "Health area": "Cancer, Drugs, Devices",
        "Link": "https://portal.ehden.eu/c/EHDEN/fingerprint/7554401febdaa999bf684bc023b6b7e5/1||EHDEN",
        "Organisation name": "https://www.lancsteachinghospitals.nhs.uk/||Lancashire Teaching Hospitals NHS Foundation Trust"
       },
       {
        "Care type": "Inpatient (hospital) care",
        "Data set": "LTHT",
        "Health area": "General",
        "Link": "https://portal.ehden.eu/c/EHDEN/fingerprint/f8770c62877d0a686e7c65694988e8bb/1||EHDEN",
        "Organisation name": "https://www.leedsth.nhs.uk/||Leeds Teaching Hospitals NHS Trust"
       },
       {
        "Care type": "Registry",
        "Data set": "National Joint Registry NJR",
        "Health area": "Joint replacement",
        "Link": "",
        "Organisation name": "https://www.njrcentre.org.uk/||National Joint Registry (HQIP)"
       },
       {
        "Care type": "Biobank",
        "Data set": "Sample holding",
        "Health area": "General",
        "Link": "",
        "Organisation name": "https://bioresource.nihr.ac.uk/||NIHR BioResource"
       },
       {
        "Care type": "Outpatient general practitioner care",
        "Data set": "Optimum Patient Care Research Database",
        "Health area": "General",
        "Link": "https://portal.ehden.eu/c/EHDEN/fingerprint/c9c148c1cd8f645fa1d291e7204d82cd/1||EHDEN",
        "Organisation name": "https://www.optimumpatientcare.org/||Optimum Patient Care"
       },
       {
        "Care type": "Cohort",
        "Data set": "Oxford Healthcare Workers",
        "Health area": "COVID",
        "Link": "https://www.healthdatagateway.org/||Gateway",
        "Organisation name": "https://www.ouh.nhs.uk/||Oxford University Hospitals"
       },
       {
        "Care type": "Registry",
        "Data set": "CRP",
        "Health area": "COVID",
        "Link": "https://healthdatagateway.org/en/dataset/146||Gateway",
        "Organisation name": "https://www.pioneerdatahub.co.uk/||PIONEER"
       },
       {
        "Care type": "Registry",
        "Data set": "Hospital COVID patients",
        "Health area": "COVID",
        "Link": "https://healthdatagateway.org/en/dataset/139||Gateway",
        "Organisation name": "https://www.pioneerdatahub.co.uk/||PIONEER"
       },
       {
        "Care type": "Registry",
        "Data set": "Ventilatory strategies and outcomes",
        "Health area": "COVID",
        "Link": "https://healthdatagateway.org/en/dataset/142||Gateway",
        "Organisation name": "https://www.pioneerdatahub.co.uk/||PIONEER"
       },
       {
        "Care type": "Registry",
        "Data set": "COPD",
        "Health area": "COVID",
        "Link": "https://healthdatagateway.org/en/dataset/191||Gateway",
        "Organisation name": "https://www.pioneerdatahub.co.uk/||PIONEER"
       },
       {
        "Care type": "Registry",
        "Data set": "Coagulopathies & thrombosis",
        "Health area": "COVID",
        "Link": "https://healthdatagateway.org/en/dataset/144||Gateway",
        "Organisation name": "https://www.pioneerdatahub.co.uk/||PIONEER"
       },
       {
        "Care type": "Registry",
        "Data set": "Scottish Cancer Registry (SMR06)",
        "Health area": "Cancer",
        "Link": "",
        "Organisation name": "https://publichealthscotland.scot/||Public Health Scotland"
       },
       {
        "Care type": "Secondary",
        "Data set": "Scottish Morbidity Record (SMR00)",
        "Health area": "General",
        "Link": "",
        "Organisation name": "https://publichealthscotland.scot/||Public Health Scotland"
       },
       {
        "Care type": "Other",
        "Data set": "NRS - Deaths Data",
        "Health area": "Deaths",
        "Link": "",
        "Organisation name": "https://publichealthscotland.scot/||Public Health Scotland"
       },
       {
        "Care type": "Other",
        "Data set": "COVID Tests",
        "Health area": "COVID",
        "Link": "",
        "Organisation name": "https://publichealthscotland.scot/||Public Health Scotland"
       },
       {
        "Care type": "Other",
        "Data set": "Scottish Covid-19 Vaccination Data",
        "Health area": "COVID",
        "Link": "",
        "Organisation name": "https://publichealthscotland.scot/||Public Health Scotland"
       },
       {
        "Care type": "Registry",
        "Data set": "National Hip Fracture Database (England and Wales)",
        "Health area": "Hip fractures",
        "Link": "https://portal.ehden.eu/c/EHDEN/fingerprint/b23d2ce8e4e7dfe2bea648f4061e7985/1||EHDEN",
        "Organisation name": "https://www.qmul.ac.uk/||Queen Mary University of London"
       },
       {
        "Care type": "Registry",
        "Data set": "Fracture Liaison Service Database",
        "Health area": "Fragility fracture",
        "Link": "https://portal.ehden.eu/c/EHDEN/fingerprint/196c57563d2bf257b2d04c95e2de9968/1||EHDEN",
        "Organisation name": "https://www.qmul.ac.uk/||Queen Mary University of London"
       },
       {
        "Care type": "Primary",
        "Data set": "ORCHID",
        "Health area": "General",
        "Link": "https://portal.ehden.eu/c/EHDEN/fingerprint/0b4c0353f5804239a804626ccf68161a/1||EHDEN",
        "Organisation name": "https://orchid.phc.ox.ac.uk/surveillance||Oxford University, Royal College of General Practitioners Research and Surveillance Centre"
       },
       {
        "Care type": "Other",
        "Data set": "Covid Vaccination Dataset (CVVD)",
        "Health area": "COVID",
        "Link": "",
        "Organisation name": "https://saildatabank.com/||SAIL Databank"
       },
       {
        "Care type": "Outpatient general practitioner care/Registry",
        "Data set": "National Community Child Health Database (NCCH)",
        "Health area": "",
        "Link": "https://portal.ehden.eu/c/EHDEN/fingerprint/605c3f7a824e54d0095aada07edf163c/1||EHDEN",
        "Organisation name": "https://saildatabank.com/||SAIL Databank"
       },
       {
        "Care type": "Other",
        "Data set": "COVID-19 Test Results (PATD)",
        "Health area": "COVID",
        "Link": "https://portal.ehden.eu/c/EHDEN/fingerprint/2ddf4ed82092b268a014036e41996897/1||EHDEN",
        "Organisation name": "https://saildatabank.com/||SAIL Databank"
       },
       {
        "Care type": "Other",
        "Data set": "Annual District Death Extract (ADDE)",
        "Health area": "Deaths",
        "Link": "https://portal.ehden.eu/c/EHDEN/fingerprint/f0f705f2ade0de7854775111260a2aad/1||EHDEN",
        "Organisation name": "https://saildatabank.com/||SAIL Databank"
       },
       {
        "Care type": "Secondary; Registry",
        "Data set": "Patient Episode Dataset for Wales (PEDW)",
        "Health area": "General",
        "Link": "https://portal.ehden.eu/c/EHDEN/fingerprint/cf7b32bb8cd80d35f57fd6bfacd90289/1/||EHDEN",
        "Organisation name": "https://saildatabank.com/||SAIL Databank"
       },
       {
        "Care type": "Registry",
        "Data set": "Welsh Demographic Service Dataset (WDSD)",
        "Health area": "General",
        "Link": "https://portal.ehden.eu/c/EHDEN/fingerprint/1f2b445f80dd8e7b050fd166c923f630/1||EHDEN",
        "Organisation name": "https://saildatabank.com/||SAIL Databank"
       },
       {
        "Care type": "Outpatient general practitioner care",
        "Data set": "LDN",
        "Health area": "General",
        "Link": "https://portal.ehden.eu/c/EHDEN/fingerprint/910e5bb2ee681bcf68d6c9741306d546/1||EHDEN",
        "Organisation name": "https://www.selondonics.org/icb/||South East London Integrated Care Board"
       },
       {
        "Care type": "Cohort",
        "Data set": "TwinsUK",
        "Health area": "General",
        "Link": "",
        "Organisation name": "https://twinsuk.ac.uk/||TwinsUK"
       },
       {
        "Care type": "Cohort",
        "Data set": "SIREN",
        "Health area": "COVID",
        "Link": "https://www.healthdatagateway.org/||Gateway",
        "Organisation name": "https://www.gov.uk/government/organisations/uk-health-security-agency||UK Health Security Agency"
       },
       {
        "Care type": "Biobank",
        "Data set": "UK Biobank",
        "Health area": "General",
        "Link": "https://portal.ehden.eu/c/EHDEN/fingerprint/cb77f7cbd63289ed371b7a5384bdff33/1||EHDEN",
        "Organisation name": "https://www.ucl.ac.uk/||University College London"
       },
       {
        "Care type": "Cohort",
        "Data set": "VIVALDI 2",
        "Health area": "COVID",
        "Link": "https://www.healthdatagateway.org/||Gateway",
        "Organisation name": "https://www.ucl.ac.uk/||University College London"
       },
       {
        "Care type": "Cohort",
        "Data set": "COVIDsortium",
        "Health area": "COVID",
        "Link": "https://healthdatagateway.org/en/dataset/703||Gateway",
        "Organisation name": "https://www.ucl.ac.uk/||University College London"
       },
       {
        "Care type": "Secondary",
        "Data set": "Critical Care Dataset",
        "Health area": "General",
        "Link": "",
        "Organisation name": "https://www.uclhospitals.brc.nihr.ac.uk/clinical-research-informatics-unit||UCLH"
       },
       {
        "Care type": "Inpatient (hospital) care",
        "Data set": "General Inpatient Dataset (EHDEN)",
        "Health area": "General",
        "Link": "https://portal.ehden.eu/c/EHDEN/fingerprint/9ef2798c0d59a7ed8bc3bdc131ff65c5/1||EHDEN",
        "Organisation name": "https://www.uclhospitals.brc.nihr.ac.uk/clinical-research-informatics-unit||UCLH"
       },
       {
        "Care type": "?Registry",
        "Data set": "Myeloma Dataset",
        "Health area": "Cancer",
        "Link": "",
        "Organisation name": "https://www.uclhospitals.brc.nihr.ac.uk/clinical-research-informatics-unit||UCLH"
       },
       {
        "Care type": "?Registry",
        "Data set": "Sepsis Research Dataset",
        "Health area": "Sepsis",
        "Link": "",
        "Organisation name": "https://www.uclhospitals.brc.nihr.ac.uk/clinical-research-informatics-unit||UCLH"
       },
       {
        "Care type": "?Registry",
        "Data set": "Blood Transfusion and TDA Dataset",
        "Health area": "Blood transfusion",
        "Link": "",
        "Organisation name": "https://www.uclhospitals.brc.nihr.ac.uk/clinical-research-informatics-unit||UCLH"
       },
       {
        "Care type": "Cohort",
        "Data set": "TRACK-COVID",
        "Health area": "COVID",
        "Link": "https://healthdatagateway.org/en/dataset/202||Gateway",
        "Organisation name": "https://www.cam.ac.uk/||University of Cambridge"
       },
       {
        "Care type": "Cohort",
        "Data set": "Follow-COVID",
        "Health area": "COVID",
        "Link": "",
        "Organisation name": "https://www.dundee.ac.uk/hic||University of Dundee Health Informatics Centre (HIC)"
       },
       {
        "Care type": "Cohort",
        "Data set": "MATCH",
        "Health area": "COVID",
        "Link": "",
        "Organisation name": "https://www.dundee.ac.uk/hic||University of Dundee Health Informatics Centre (HIC)"
       },
       {
        "Care type": "Outpatient specialist care/Pharmacy care/Registry/Other",
        "Data set": "HIC",
        "Health area": "",
        "Link": "https://portal.ehden.eu/c/EHDEN/fingerprint/c76284893a8697a6fbdef47ce3613d85/1||EHDEN",
        "Organisation name": "https://www.dundee.ac.uk/hic||University of Dundee Health Informatics Centre (HIC)"
       },
       {
        "Care type": "Secondary",
        "Data set": "Cancer (SESCD)",
        "Health area": "Cancer",
        "Link": "https://portal.ehden.eu/c/EHDEN/fingerprint/2abcc1297ebeccefd93936dd80f4b43b/1||EHDEN",
        "Organisation name": "https://dataloch.org/||University of Edinburgh (DataLoch)"
       },
       {
        "Care type": "Other",
        "Data set": "COVID19",
        "Health area": "COVID",
        "Link": "https://portal.ehden.eu/c/EHDEN/fingerprint/04c214bb6833c62b2164cdc88a983e9a/1||EHDEN",
        "Organisation name": "https://dataloch.org/||University of Edinburgh (DataLoch)"
       },
       {
        "Care type": "",
        "Data set": "EiC dataset",
        "Health area": "",
        "Link": "",
        "Organisation name": "https://dataloch.org/||University of Edinburgh (DataLoch)"
       },
       {
        "Care type": "",
        "Data set": "DECOVID",
        "Health area": "",
        "Link": "",
        "Organisation name": "https://www.uhb.nhs.uk/||University Hospitals Birmingham NHS Foundation Trust "
       },
       {
        "Care type": "",
        "Data set": "TBA",
        "Health area": "",
        "Link": "",
        "Organisation name": "https://www.uhb.nhs.uk/||University Hospitals Birmingham NHS Foundation Trust "
       },
       {
        "Care type": "Cohort",
        "Data set": "ACE",
        "Health area": "COVID",
        "Link": "https://www.healthdatagateway.org/||Gateway",
        "Organisation name": "https://www.nottingham.ac.uk/||University Of Nottingham"
       },
       {
        "Care type": "Cohort",
        "Data set": "PANTHER",
        "Health area": "COVID",
        "Link": "https://healthdatagateway.org/en/dataset/714||Gateway",
        "Organisation name": "https://www.nottingham.ac.uk/||University Of Nottingham"
       },
       {
        "Care type": "Registry",
        "Data set": "GOAL",
        "Health area": "Osteoarthritis",
        "Link": "",
        "Organisation name": "https://www.nottingham.ac.uk/||University Of Nottingham"
       },
       {
        "Care type": "Cohort",
        "Data set": "Omega 3 Cohort",
        "Health area": "Nutrition",
        "Link": "",
        "Organisation name": "https://www.nottingham.ac.uk/||University Of Nottingham"
       },
       {
        "Care type": "",
        "Data set": "COVID",
        "Health area": "",
        "Link": "",
        "Organisation name": "https://wessexhealthpartners.org.uk/||Wessex SNSDE"
       },
       {
        "Care type": "",
        "Data set": "Clinical trials are being considered that have completed",
        "Health area": "",
        "Link": "",
        "Organisation name": "https://wessexhealthpartners.org.uk/||Wessex SNSDE"
       },
       {
        "Care type": "",
        "Data set": "ECRIN",
        "Health area": "",
        "Link": "",
        "Organisation name": "https://wessexhealthpartners.org.uk/||Wessex SNSDE"
       },
       {
        "Care type": "",
        "Data set": "HICS submissions",
        "Health area": "",
        "Link": "",
        "Organisation name": "https://wessexhealthpartners.org.uk/||Wessex SNSDE"
       }
      ],
      "text/plain": [
       "<IPython.core.display.JSON object>"
      ]
     },
     "execution_count": 9,
     "metadata": {
      "application/json": {
       "expanded": false,
       "root": "root"
      }
     },
     "output_type": "execute_result"
    }
   ],
   "source": [
    "JSON(json_dict)"
   ]
  },
  {
   "cell_type": "markdown",
   "id": "ef68cb4f-fc32-4d3e-b395-9d4040dca64c",
   "metadata": {},
   "source": [
    "Pretty-print the JSON string (to improve readability)"
   ]
  },
  {
   "cell_type": "code",
   "execution_count": 10,
   "id": "90ec0453-4e3b-4af3-990d-d655ccb11491",
   "metadata": {},
   "outputs": [
    {
     "name": "stdout",
     "output_type": "stream",
     "text": [
      "[\n",
      "    {\n",
      "        \"Organisation name\": \"https://akriviahealth.com||Akrivia Health\",\n",
      "        \"Data set\": \"Akrivia (AKRDB)\",\n",
      "        \"Care type\": \"Secondary\",\n",
      "        \"Health area\": \"Mental health\",\n",
      "        \"Link\": \"https://portal.ehden.eu/c/EHDEN/fingerprint/caad32dbaf29a090f971402f0914e6b9/1||EHDEN\"\n",
      "    },\n",
      "    {\n",
      "        \"Organisation name\": \"https://www.bristol.ac.uk/alspac/||Avon Longitudinal Study of Parents and Children\",\n",
      "        \"Data set\": \"ALSPAC\",\n",
      "        \"Care type\": \"Cohort\",\n",
      "        \"Health area\": \"General\",\n",
      "        \"Link\": \"\"\n",
      "    },\n",
      "    {\n",
      "        \"Organisation name\": \"https://www.bartshealth.nhs.uk/||Barts Health NHS Trust\",\n",
      "        \"Data set\": \"Barts\",\n",
      "        \"Care type\": \"Inpatient (hospital) care/Outpatient specialist care/Pharmacy care\",\n",
      "        \"Health area\": \"General\",\n",
      "        \"Link\": \"https://portal.ehden.eu/c/EHDEN/fingerprint/a3561d0de114192ece978577133a3ce1/1||EHDEN\"\n",
      "    },\n",
      "    {\n",
      "        \"Organisation name\": \"https://www.bartshealth.nhs.uk/||Barts Health NHS Trust\",\n",
      "        \"Data set\": \"Barts Health NHS OMOP Dataset\",\n",
      "        \"Care type\": \"Barts Health NHS OMOP Dataset\",\n",
      "        \"Health area\": \"General\",\n",
      "        \"Link\": \"https://healthdatagateway.org/en/dataset/1098||Gateway\"\n",
      "    },\n",
      "    {\n",
      "        \"Organisation name\": \"https://www.ed.ac.uk/usher/breathe||BREATHE\",\n",
      "        \"Data set\": \"Genetics of Asthma Severity & Phenotypes\",\n",
      "        \"Care type\": \"Cohort\",\n",
      "        \"Health area\": \"Asthma\",\n",
      "        \"Link\": \"\"\n",
      "    },\n",
      "    {\n",
      "        \"Organisation name\": \"https://www.cprd.com/||Clinical Practice Research Datalink\",\n",
      "        \"Data set\": \"CPRD Aurum\",\n",
      "        \"Care type\": \"Primary\",\n",
      "        \"Health area\": \"General\",\n",
      "        \"Link\": \"https://portal.ehden.eu/c/EHDEN/fingerprint/f7a9bbcb9d908083f88d1c00e40f1c9b/1||EHDEN\"\n",
      "    },\n",
      "    {\n",
      "        \"Organisation name\": \"https://www.cprd.com/||Clinical Practice Research Datalink\",\n",
      "        \"Data set\": \"CPRD Aurum linked HES APC data\",\n",
      "        \"Care type\": \"Primary + Inpatient\",\n",
      "        \"Health area\": \"General\",\n",
      "        \"Link\": \"https://portal.ehden.eu/c/EHDEN/fingerprint/53ba7e0463ee61834cf1202a4797edfe/1||EHDEN\"\n",
      "    },\n",
      "    {\n",
      "        \"Organisation name\": \"https://www.cprd.com/||Clinical Practice Research Datalink\",\n",
      "        \"Data set\": \"CPRD Primary Care OMOP Common Data Model\",\n",
      "        \"Care type\": \"Primary\",\n",
      "        \"Health area\": \"General\",\n",
      "        \"Link\": \"https://healthdatagateway.org/en/dataset/1100||Gateway\"\n",
      "    },\n",
      "    {\n",
      "        \"Organisation name\": \"https://www.cprd.com/||Clinical Practice Research Datalink\",\n",
      "        \"Data set\": \"CPRD Primary Care and Linked Data OMOP Common Data Model\",\n",
      "        \"Care type\": \"Primary + Linked\",\n",
      "        \"Health area\": \"General\",\n",
      "        \"Link\": \"https://healthdatagateway.org/en/dataset/1099||Gateway\"\n",
      "    },\n",
      "    {\n",
      "        \"Organisation name\": \"https://www.bradfordresearch.nhs.uk/our-research-teams/connected-bradford/||Connected Bradford\",\n",
      "        \"Data set\": \"cBradford\",\n",
      "        \"Care type\": \"Inpatient (hospital) care/Outpatient general practitioner care/Outpatient specialist care/Long term/ skill nursing facility care/Pharmacy care/Other\",\n",
      "        \"Health area\": \"General\",\n",
      "        \"Link\": \"https://portal.ehden.eu/c/EHDEN/fingerprint/1cc558a55bc0d14901eeea1f499ecfff/1||EHDEN\"\n",
      "    },\n",
      "    {\n",
      "        \"Organisation name\": \"https://bhfdatasciencecentre.org/||BHF Data Science Centre (CVD-COVID-UK/COVID-IMPACT)\",\n",
      "        \"Data set\": \"HES-APC\",\n",
      "        \"Care type\": \"Inpatient\",\n",
      "        \"Health area\": \"General\",\n",
      "        \"Link\": \"\"\n",
      "    },\n",
      "    {\n",
      "        \"Organisation name\": \"https://bhfdatasciencecentre.org/||BHF Data Science Centre (CVD-COVID-UK/COVID-IMPACT)\",\n",
      "        \"Data set\": \"Death registrations\",\n",
      "        \"Care type\": \"Other\",\n",
      "        \"Health area\": \"Deaths\",\n",
      "        \"Link\": \"\"\n",
      "    },\n",
      "    {\n",
      "        \"Organisation name\": \"https://bhfdatasciencecentre.org/||BHF Data Science Centre (CVD-COVID-UK/COVID-IMPACT)\",\n",
      "        \"Data set\": \"GPES\",\n",
      "        \"Care type\": \"Primary\",\n",
      "        \"Health area\": \"Pandemic\",\n",
      "        \"Link\": \"\"\n",
      "    },\n",
      "    {\n",
      "        \"Organisation name\": \"https://bhfdatasciencecentre.org/||BHF Data Science Centre (CVD-COVID-UK/COVID-IMPACT)\",\n",
      "        \"Data set\": \"NICOR\",\n",
      "        \"Care type\": \"Registry\",\n",
      "        \"Health area\": \"Heart failure\",\n",
      "        \"Link\": \"\"\n",
      "    },\n",
      "    {\n",
      "        \"Organisation name\": \"https://discover-now.co.uk/||Discover-NOW\",\n",
      "        \"Data set\": \"Discover-NOW\",\n",
      "        \"Care type\": \"Primary\",\n",
      "        \"Health area\": \"General\",\n",
      "        \"Link\": \"\"\n",
      "    },\n",
      "    {\n",
      "        \"Organisation name\": \"https://healthinnovationeast.co.uk/||Eastern AHSN (Academic Health Science Network)\",\n",
      "        \"Data set\": \"?\",\n",
      "        \"Care type\": \"?\",\n",
      "        \"Health area\": \"?\",\n",
      "        \"Link\": \"\"\n",
      "    },\n",
      "    {\n",
      "        \"Organisation name\": \"https://www.ed.ac.uk/generation-scotland||Generation Scotland\",\n",
      "        \"Data set\": \"GS:SFHS\",\n",
      "        \"Care type\": \"Cohort\",\n",
      "        \"Health area\": \"General\",\n",
      "        \"Link\": \"\"\n",
      "    },\n",
      "    {\n",
      "        \"Organisation name\": \"https://www.genomicsengland.co.uk/||Genomics England\",\n",
      "        \"Data set\": \"NHSD HES datasets\",\n",
      "        \"Care type\": \"Various\",\n",
      "        \"Health area\": \"Cancer, rare diseases, COVID\",\n",
      "        \"Link\": \"\"\n",
      "    },\n",
      "    {\n",
      "        \"Organisation name\": \"https://www.genomicsengland.co.uk/||Genomics England\",\n",
      "        \"Data set\": \"100,000 Genomes\",\n",
      "        \"Care type\": \"\",\n",
      "        \"Health area\": \"\",\n",
      "        \"Link\": \"https://healthdatagateway.org/en/dataset/373||Gateway\"\n",
      "    },\n",
      "    {\n",
      "        \"Organisation name\": \"https://www.genomicsengland.co.uk/||Genomics England\",\n",
      "        \"Data set\": \"Internal Cancer and Rare Disease datasets\",\n",
      "        \"Care type\": \"\",\n",
      "        \"Health area\": \"\",\n",
      "        \"Link\": \"\"\n",
      "    },\n",
      "    {\n",
      "        \"Organisation name\": \"https://www.genomicsengland.co.uk/||Genomics England\",\n",
      "        \"Data set\": \"NCRAS\",\n",
      "        \"Care type\": \"\",\n",
      "        \"Health area\": \"\",\n",
      "        \"Link\": \"\"\n",
      "    },\n",
      "    {\n",
      "        \"Organisation name\": \"https://www.genomicsengland.co.uk/||Genomics England\",\n",
      "        \"Data set\": \"NHSD Cancer datasets\",\n",
      "        \"Care type\": \"\",\n",
      "        \"Health area\": \"\",\n",
      "        \"Link\": \"\"\n",
      "    },\n",
      "    {\n",
      "        \"Organisation name\": \"https://www.genomicsengland.co.uk/||Genomics England\",\n",
      "        \"Data set\": \"UKHSA COVID Test Results\",\n",
      "        \"Care type\": \"\",\n",
      "        \"Health area\": \"\",\n",
      "        \"Link\": \"\"\n",
      "    },\n",
      "    {\n",
      "        \"Organisation name\": \"https://www.gosh.nhs.uk/||Great Ormond Street Hospital\",\n",
      "        \"Data set\": \"GOSH DRE\",\n",
      "        \"Care type\": \"Secondary\",\n",
      "        \"Health area\": \"Paediatric\",\n",
      "        \"Link\": \"https://portal.ehden.eu/c/EHDEN/fingerprint/ab2b17e951004da0ae77fffa19736204/1||EHDEN\"\n",
      "    },\n",
      "    {\n",
      "        \"Organisation name\": \"https://www.gosh.nhs.uk/||Great Ormond Street Hospital\",\n",
      "        \"Data set\": \"Co-STARS\",\n",
      "        \"Care type\": \"Cohort\",\n",
      "        \"Health area\": \"COVID\",\n",
      "        \"Link\": \"https://healthdatagateway.org/en/dataset/401||Gateway\"\n",
      "    },\n",
      "    {\n",
      "        \"Organisation name\": \"https://www.guysandstthomas.nhs.uk/||Guy's & St Thomas' Hospital NHS Foundation Trust\",\n",
      "        \"Data set\": \"NHIC RENAL GSTT\",\n",
      "        \"Care type\": \"Registry\",\n",
      "        \"Health area\": \"Renal transplantation\",\n",
      "        \"Link\": \"https://portal.ehden.eu/c/EHDEN/fingerprint/65fd0722b9fc9d3ec0eb82c8479bc16a/1||EHDEN\"\n",
      "    },\n",
      "    {\n",
      "        \"Organisation name\": \"https://www.harveywalsh.co.uk/||Harvey Walsh Ltd\",\n",
      "        \"Data set\": \"HES\",\n",
      "        \"Care type\": \"Secondary\",\n",
      "        \"Health area\": \"General\",\n",
      "        \"Link\": \"https://portal.ehden.eu/c/EHDEN/fingerprint/718459ab74b2618296afff1f2762c38d/1||EHDEN\"\n",
      "    },\n",
      "    {\n",
      "        \"Organisation name\": \"https://www.imperial.nhs.uk/||Imperial College Healthcare NHS Trust\",\n",
      "        \"Data set\": \"ICHT Core Data\",\n",
      "        \"Care type\": \"Primary, Secondary, Tertiary\",\n",
      "        \"Health area\": \"General\",\n",
      "        \"Link\": \"\"\n",
      "    },\n",
      "    {\n",
      "        \"Organisation name\": \"https://www.imperial.ac.uk/||Imperial College London\",\n",
      "        \"Data set\": \"REACT-2\",\n",
      "        \"Care type\": \"Cohort\",\n",
      "        \"Health area\": \"COVID\",\n",
      "        \"Link\": \"https://www.healthdatagateway.org/||Gateway\"\n",
      "    },\n",
      "    {\n",
      "        \"Organisation name\": \"https://www.imperial.ac.uk/neonatal-data-analysis-unit/neonatal-data-analysis-unit/||Imperial College London\",\n",
      "        \"Data set\": \"NNRD\",\n",
      "        \"Care type\": \"Secondary +\",\n",
      "        \"Health area\": \"Neonatal\",\n",
      "        \"Link\": \"https://portal.ehden.eu/c/EHDEN/fingerprint/17c21e5d374151a1d9a95ce2cf5fcbb8/1||EHDEN\"\n",
      "    },\n",
      "    {\n",
      "        \"Organisation name\": \"https://www.iqvia.com/||IQVIA\",\n",
      "        \"Data set\": \"IMRD\",\n",
      "        \"Care type\": \"\",\n",
      "        \"Health area\": \"\",\n",
      "        \"Link\": \"\"\n",
      "    },\n",
      "    {\n",
      "        \"Organisation name\": \"https://isaric4c.net/||ISARIC4C\",\n",
      "        \"Data set\": \"CO-CIN\",\n",
      "        \"Care type\": \"Registry\",\n",
      "        \"Health area\": \"COVID\",\n",
      "        \"Link\": \"\"\n",
      "    },\n",
      "    {\n",
      "        \"Organisation name\": \"https://www.kcl.ac.uk/research/stroke-research-group||King's College London/Guy's and St Thomas' NHS Foundation Trust\",\n",
      "        \"Data set\": \"SLSR\",\n",
      "        \"Care type\": \"Registry\",\n",
      "        \"Health area\": \"Stroke\",\n",
      "        \"Link\": \"https://portal.ehden.eu/c/EHDEN/fingerprint/1464853b41bd7b41eb31b650272f9037/1||EHDEN\"\n",
      "    },\n",
      "    {\n",
      "        \"Organisation name\": \"https://www.lancsteachinghospitals.nhs.uk/||Lancashire Teaching Hospitals NHS Foundation Trust\",\n",
      "        \"Data set\": \"IDRIL-1\",\n",
      "        \"Care type\": \"Secondary, General EHR\",\n",
      "        \"Health area\": \"Cancer, Drugs, Devices\",\n",
      "        \"Link\": \"https://portal.ehden.eu/c/EHDEN/fingerprint/7554401febdaa999bf684bc023b6b7e5/1||EHDEN\"\n",
      "    },\n",
      "    {\n",
      "        \"Organisation name\": \"https://www.leedsth.nhs.uk/||Leeds Teaching Hospitals NHS Trust\",\n",
      "        \"Data set\": \"LTHT\",\n",
      "        \"Care type\": \"Inpatient (hospital) care\",\n",
      "        \"Health area\": \"General\",\n",
      "        \"Link\": \"https://portal.ehden.eu/c/EHDEN/fingerprint/f8770c62877d0a686e7c65694988e8bb/1||EHDEN\"\n",
      "    },\n",
      "    {\n",
      "        \"Organisation name\": \"https://www.njrcentre.org.uk/||National Joint Registry (HQIP)\",\n",
      "        \"Data set\": \"National Joint Registry NJR\",\n",
      "        \"Care type\": \"Registry\",\n",
      "        \"Health area\": \"Joint replacement\",\n",
      "        \"Link\": \"\"\n",
      "    },\n",
      "    {\n",
      "        \"Organisation name\": \"https://bioresource.nihr.ac.uk/||NIHR BioResource\",\n",
      "        \"Data set\": \"Sample holding\",\n",
      "        \"Care type\": \"Biobank\",\n",
      "        \"Health area\": \"General\",\n",
      "        \"Link\": \"\"\n",
      "    },\n",
      "    {\n",
      "        \"Organisation name\": \"https://www.optimumpatientcare.org/||Optimum Patient Care\",\n",
      "        \"Data set\": \"Optimum Patient Care Research Database\",\n",
      "        \"Care type\": \"Outpatient general practitioner care\",\n",
      "        \"Health area\": \"General\",\n",
      "        \"Link\": \"https://portal.ehden.eu/c/EHDEN/fingerprint/c9c148c1cd8f645fa1d291e7204d82cd/1||EHDEN\"\n",
      "    },\n",
      "    {\n",
      "        \"Organisation name\": \"https://www.ouh.nhs.uk/||Oxford University Hospitals\",\n",
      "        \"Data set\": \"Oxford Healthcare Workers\",\n",
      "        \"Care type\": \"Cohort\",\n",
      "        \"Health area\": \"COVID\",\n",
      "        \"Link\": \"https://www.healthdatagateway.org/||Gateway\"\n",
      "    },\n",
      "    {\n",
      "        \"Organisation name\": \"https://www.pioneerdatahub.co.uk/||PIONEER\",\n",
      "        \"Data set\": \"CRP\",\n",
      "        \"Care type\": \"Registry\",\n",
      "        \"Health area\": \"COVID\",\n",
      "        \"Link\": \"https://healthdatagateway.org/en/dataset/146||Gateway\"\n",
      "    },\n",
      "    {\n",
      "        \"Organisation name\": \"https://www.pioneerdatahub.co.uk/||PIONEER\",\n",
      "        \"Data set\": \"Hospital COVID patients\",\n",
      "        \"Care type\": \"Registry\",\n",
      "        \"Health area\": \"COVID\",\n",
      "        \"Link\": \"https://healthdatagateway.org/en/dataset/139||Gateway\"\n",
      "    },\n",
      "    {\n",
      "        \"Organisation name\": \"https://www.pioneerdatahub.co.uk/||PIONEER\",\n",
      "        \"Data set\": \"Ventilatory strategies and outcomes\",\n",
      "        \"Care type\": \"Registry\",\n",
      "        \"Health area\": \"COVID\",\n",
      "        \"Link\": \"https://healthdatagateway.org/en/dataset/142||Gateway\"\n",
      "    },\n",
      "    {\n",
      "        \"Organisation name\": \"https://www.pioneerdatahub.co.uk/||PIONEER\",\n",
      "        \"Data set\": \"COPD\",\n",
      "        \"Care type\": \"Registry\",\n",
      "        \"Health area\": \"COVID\",\n",
      "        \"Link\": \"https://healthdatagateway.org/en/dataset/191||Gateway\"\n",
      "    },\n",
      "    {\n",
      "        \"Organisation name\": \"https://www.pioneerdatahub.co.uk/||PIONEER\",\n",
      "        \"Data set\": \"Coagulopathies & thrombosis\",\n",
      "        \"Care type\": \"Registry\",\n",
      "        \"Health area\": \"COVID\",\n",
      "        \"Link\": \"https://healthdatagateway.org/en/dataset/144||Gateway\"\n",
      "    },\n",
      "    {\n",
      "        \"Organisation name\": \"https://publichealthscotland.scot/||Public Health Scotland\",\n",
      "        \"Data set\": \"Scottish Cancer Registry (SMR06)\",\n",
      "        \"Care type\": \"Registry\",\n",
      "        \"Health area\": \"Cancer\",\n",
      "        \"Link\": \"\"\n",
      "    },\n",
      "    {\n",
      "        \"Organisation name\": \"https://publichealthscotland.scot/||Public Health Scotland\",\n",
      "        \"Data set\": \"Scottish Morbidity Record (SMR00)\",\n",
      "        \"Care type\": \"Secondary\",\n",
      "        \"Health area\": \"General\",\n",
      "        \"Link\": \"\"\n",
      "    },\n",
      "    {\n",
      "        \"Organisation name\": \"https://publichealthscotland.scot/||Public Health Scotland\",\n",
      "        \"Data set\": \"NRS - Deaths Data\",\n",
      "        \"Care type\": \"Other\",\n",
      "        \"Health area\": \"Deaths\",\n",
      "        \"Link\": \"\"\n",
      "    },\n",
      "    {\n",
      "        \"Organisation name\": \"https://publichealthscotland.scot/||Public Health Scotland\",\n",
      "        \"Data set\": \"COVID Tests\",\n",
      "        \"Care type\": \"Other\",\n",
      "        \"Health area\": \"COVID\",\n",
      "        \"Link\": \"\"\n",
      "    },\n",
      "    {\n",
      "        \"Organisation name\": \"https://publichealthscotland.scot/||Public Health Scotland\",\n",
      "        \"Data set\": \"Scottish Covid-19 Vaccination Data\",\n",
      "        \"Care type\": \"Other\",\n",
      "        \"Health area\": \"COVID\",\n",
      "        \"Link\": \"\"\n",
      "    },\n",
      "    {\n",
      "        \"Organisation name\": \"https://www.qmul.ac.uk/||Queen Mary University of London\",\n",
      "        \"Data set\": \"National Hip Fracture Database (England and Wales)\",\n",
      "        \"Care type\": \"Registry\",\n",
      "        \"Health area\": \"Hip fractures\",\n",
      "        \"Link\": \"https://portal.ehden.eu/c/EHDEN/fingerprint/b23d2ce8e4e7dfe2bea648f4061e7985/1||EHDEN\"\n",
      "    },\n",
      "    {\n",
      "        \"Organisation name\": \"https://www.qmul.ac.uk/||Queen Mary University of London\",\n",
      "        \"Data set\": \"Fracture Liaison Service Database\",\n",
      "        \"Care type\": \"Registry\",\n",
      "        \"Health area\": \"Fragility fracture\",\n",
      "        \"Link\": \"https://portal.ehden.eu/c/EHDEN/fingerprint/196c57563d2bf257b2d04c95e2de9968/1||EHDEN\"\n",
      "    },\n",
      "    {\n",
      "        \"Organisation name\": \"https://orchid.phc.ox.ac.uk/surveillance||Oxford University, Royal College of General Practitioners Research and Surveillance Centre\",\n",
      "        \"Data set\": \"ORCHID\",\n",
      "        \"Care type\": \"Primary\",\n",
      "        \"Health area\": \"General\",\n",
      "        \"Link\": \"https://portal.ehden.eu/c/EHDEN/fingerprint/0b4c0353f5804239a804626ccf68161a/1||EHDEN\"\n",
      "    },\n",
      "    {\n",
      "        \"Organisation name\": \"https://saildatabank.com/||SAIL Databank\",\n",
      "        \"Data set\": \"Covid Vaccination Dataset (CVVD)\",\n",
      "        \"Care type\": \"Other\",\n",
      "        \"Health area\": \"COVID\",\n",
      "        \"Link\": \"\"\n",
      "    },\n",
      "    {\n",
      "        \"Organisation name\": \"https://saildatabank.com/||SAIL Databank\",\n",
      "        \"Data set\": \"National Community Child Health Database (NCCH)\",\n",
      "        \"Care type\": \"Outpatient general practitioner care/Registry\",\n",
      "        \"Health area\": \"\",\n",
      "        \"Link\": \"https://portal.ehden.eu/c/EHDEN/fingerprint/605c3f7a824e54d0095aada07edf163c/1||EHDEN\"\n",
      "    },\n",
      "    {\n",
      "        \"Organisation name\": \"https://saildatabank.com/||SAIL Databank\",\n",
      "        \"Data set\": \"COVID-19 Test Results (PATD)\",\n",
      "        \"Care type\": \"Other\",\n",
      "        \"Health area\": \"COVID\",\n",
      "        \"Link\": \"https://portal.ehden.eu/c/EHDEN/fingerprint/2ddf4ed82092b268a014036e41996897/1||EHDEN\"\n",
      "    },\n",
      "    {\n",
      "        \"Organisation name\": \"https://saildatabank.com/||SAIL Databank\",\n",
      "        \"Data set\": \"Annual District Death Extract (ADDE)\",\n",
      "        \"Care type\": \"Other\",\n",
      "        \"Health area\": \"Deaths\",\n",
      "        \"Link\": \"https://portal.ehden.eu/c/EHDEN/fingerprint/f0f705f2ade0de7854775111260a2aad/1||EHDEN\"\n",
      "    },\n",
      "    {\n",
      "        \"Organisation name\": \"https://saildatabank.com/||SAIL Databank\",\n",
      "        \"Data set\": \"Patient Episode Dataset for Wales (PEDW)\",\n",
      "        \"Care type\": \"Secondary; Registry\",\n",
      "        \"Health area\": \"General\",\n",
      "        \"Link\": \"https://portal.ehden.eu/c/EHDEN/fingerprint/cf7b32bb8cd80d35f57fd6bfacd90289/1/||EHDEN\"\n",
      "    },\n",
      "    {\n",
      "        \"Organisation name\": \"https://saildatabank.com/||SAIL Databank\",\n",
      "        \"Data set\": \"Welsh Demographic Service Dataset (WDSD)\",\n",
      "        \"Care type\": \"Registry\",\n",
      "        \"Health area\": \"General\",\n",
      "        \"Link\": \"https://portal.ehden.eu/c/EHDEN/fingerprint/1f2b445f80dd8e7b050fd166c923f630/1||EHDEN\"\n",
      "    },\n",
      "    {\n",
      "        \"Organisation name\": \"https://www.selondonics.org/icb/||South East London Integrated Care Board\",\n",
      "        \"Data set\": \"LDN\",\n",
      "        \"Care type\": \"Outpatient general practitioner care\",\n",
      "        \"Health area\": \"General\",\n",
      "        \"Link\": \"https://portal.ehden.eu/c/EHDEN/fingerprint/910e5bb2ee681bcf68d6c9741306d546/1||EHDEN\"\n",
      "    },\n",
      "    {\n",
      "        \"Organisation name\": \"https://twinsuk.ac.uk/||TwinsUK\",\n",
      "        \"Data set\": \"TwinsUK\",\n",
      "        \"Care type\": \"Cohort\",\n",
      "        \"Health area\": \"General\",\n",
      "        \"Link\": \"\"\n",
      "    },\n",
      "    {\n",
      "        \"Organisation name\": \"https://www.gov.uk/government/organisations/uk-health-security-agency||UK Health Security Agency\",\n",
      "        \"Data set\": \"SIREN\",\n",
      "        \"Care type\": \"Cohort\",\n",
      "        \"Health area\": \"COVID\",\n",
      "        \"Link\": \"https://www.healthdatagateway.org/||Gateway\"\n",
      "    },\n",
      "    {\n",
      "        \"Organisation name\": \"https://www.ucl.ac.uk/||University College London\",\n",
      "        \"Data set\": \"UK Biobank\",\n",
      "        \"Care type\": \"Biobank\",\n",
      "        \"Health area\": \"General\",\n",
      "        \"Link\": \"https://portal.ehden.eu/c/EHDEN/fingerprint/cb77f7cbd63289ed371b7a5384bdff33/1||EHDEN\"\n",
      "    },\n",
      "    {\n",
      "        \"Organisation name\": \"https://www.ucl.ac.uk/||University College London\",\n",
      "        \"Data set\": \"VIVALDI 2\",\n",
      "        \"Care type\": \"Cohort\",\n",
      "        \"Health area\": \"COVID\",\n",
      "        \"Link\": \"https://www.healthdatagateway.org/||Gateway\"\n",
      "    },\n",
      "    {\n",
      "        \"Organisation name\": \"https://www.ucl.ac.uk/||University College London\",\n",
      "        \"Data set\": \"COVIDsortium\",\n",
      "        \"Care type\": \"Cohort\",\n",
      "        \"Health area\": \"COVID\",\n",
      "        \"Link\": \"https://healthdatagateway.org/en/dataset/703||Gateway\"\n",
      "    },\n",
      "    {\n",
      "        \"Organisation name\": \"https://www.uclhospitals.brc.nihr.ac.uk/clinical-research-informatics-unit||UCLH\",\n",
      "        \"Data set\": \"Critical Care Dataset\",\n",
      "        \"Care type\": \"Secondary\",\n",
      "        \"Health area\": \"General\",\n",
      "        \"Link\": \"\"\n",
      "    },\n",
      "    {\n",
      "        \"Organisation name\": \"https://www.uclhospitals.brc.nihr.ac.uk/clinical-research-informatics-unit||UCLH\",\n",
      "        \"Data set\": \"General Inpatient Dataset (EHDEN)\",\n",
      "        \"Care type\": \"Inpatient (hospital) care\",\n",
      "        \"Health area\": \"General\",\n",
      "        \"Link\": \"https://portal.ehden.eu/c/EHDEN/fingerprint/9ef2798c0d59a7ed8bc3bdc131ff65c5/1||EHDEN\"\n",
      "    },\n",
      "    {\n",
      "        \"Organisation name\": \"https://www.uclhospitals.brc.nihr.ac.uk/clinical-research-informatics-unit||UCLH\",\n",
      "        \"Data set\": \"Myeloma Dataset\",\n",
      "        \"Care type\": \"?Registry\",\n",
      "        \"Health area\": \"Cancer\",\n",
      "        \"Link\": \"\"\n",
      "    },\n",
      "    {\n",
      "        \"Organisation name\": \"https://www.uclhospitals.brc.nihr.ac.uk/clinical-research-informatics-unit||UCLH\",\n",
      "        \"Data set\": \"Sepsis Research Dataset\",\n",
      "        \"Care type\": \"?Registry\",\n",
      "        \"Health area\": \"Sepsis\",\n",
      "        \"Link\": \"\"\n",
      "    },\n",
      "    {\n",
      "        \"Organisation name\": \"https://www.uclhospitals.brc.nihr.ac.uk/clinical-research-informatics-unit||UCLH\",\n",
      "        \"Data set\": \"Blood Transfusion and TDA Dataset\",\n",
      "        \"Care type\": \"?Registry\",\n",
      "        \"Health area\": \"Blood transfusion\",\n",
      "        \"Link\": \"\"\n",
      "    },\n",
      "    {\n",
      "        \"Organisation name\": \"https://www.cam.ac.uk/||University of Cambridge\",\n",
      "        \"Data set\": \"TRACK-COVID\",\n",
      "        \"Care type\": \"Cohort\",\n",
      "        \"Health area\": \"COVID\",\n",
      "        \"Link\": \"https://healthdatagateway.org/en/dataset/202||Gateway\"\n",
      "    },\n",
      "    {\n",
      "        \"Organisation name\": \"https://www.dundee.ac.uk/hic||University of Dundee Health Informatics Centre (HIC)\",\n",
      "        \"Data set\": \"Follow-COVID\",\n",
      "        \"Care type\": \"Cohort\",\n",
      "        \"Health area\": \"COVID\",\n",
      "        \"Link\": \"\"\n",
      "    },\n",
      "    {\n",
      "        \"Organisation name\": \"https://www.dundee.ac.uk/hic||University of Dundee Health Informatics Centre (HIC)\",\n",
      "        \"Data set\": \"MATCH\",\n",
      "        \"Care type\": \"Cohort\",\n",
      "        \"Health area\": \"COVID\",\n",
      "        \"Link\": \"\"\n",
      "    },\n",
      "    {\n",
      "        \"Organisation name\": \"https://www.dundee.ac.uk/hic||University of Dundee Health Informatics Centre (HIC)\",\n",
      "        \"Data set\": \"HIC\",\n",
      "        \"Care type\": \"Outpatient specialist care/Pharmacy care/Registry/Other\",\n",
      "        \"Health area\": \"\",\n",
      "        \"Link\": \"https://portal.ehden.eu/c/EHDEN/fingerprint/c76284893a8697a6fbdef47ce3613d85/1||EHDEN\"\n",
      "    },\n",
      "    {\n",
      "        \"Organisation name\": \"https://dataloch.org/||University of Edinburgh (DataLoch)\",\n",
      "        \"Data set\": \"Cancer (SESCD)\",\n",
      "        \"Care type\": \"Secondary\",\n",
      "        \"Health area\": \"Cancer\",\n",
      "        \"Link\": \"https://portal.ehden.eu/c/EHDEN/fingerprint/2abcc1297ebeccefd93936dd80f4b43b/1||EHDEN\"\n",
      "    },\n",
      "    {\n",
      "        \"Organisation name\": \"https://dataloch.org/||University of Edinburgh (DataLoch)\",\n",
      "        \"Data set\": \"COVID19\",\n",
      "        \"Care type\": \"Other\",\n",
      "        \"Health area\": \"COVID\",\n",
      "        \"Link\": \"https://portal.ehden.eu/c/EHDEN/fingerprint/04c214bb6833c62b2164cdc88a983e9a/1||EHDEN\"\n",
      "    },\n",
      "    {\n",
      "        \"Organisation name\": \"https://dataloch.org/||University of Edinburgh (DataLoch)\",\n",
      "        \"Data set\": \"EiC dataset\",\n",
      "        \"Care type\": \"\",\n",
      "        \"Health area\": \"\",\n",
      "        \"Link\": \"\"\n",
      "    },\n",
      "    {\n",
      "        \"Organisation name\": \"https://www.uhb.nhs.uk/||University Hospitals Birmingham NHS Foundation Trust \",\n",
      "        \"Data set\": \"DECOVID\",\n",
      "        \"Care type\": \"\",\n",
      "        \"Health area\": \"\",\n",
      "        \"Link\": \"\"\n",
      "    },\n",
      "    {\n",
      "        \"Organisation name\": \"https://www.uhb.nhs.uk/||University Hospitals Birmingham NHS Foundation Trust \",\n",
      "        \"Data set\": \"TBA\",\n",
      "        \"Care type\": \"\",\n",
      "        \"Health area\": \"\",\n",
      "        \"Link\": \"\"\n",
      "    },\n",
      "    {\n",
      "        \"Organisation name\": \"https://www.nottingham.ac.uk/||University Of Nottingham\",\n",
      "        \"Data set\": \"ACE\",\n",
      "        \"Care type\": \"Cohort\",\n",
      "        \"Health area\": \"COVID\",\n",
      "        \"Link\": \"https://www.healthdatagateway.org/||Gateway\"\n",
      "    },\n",
      "    {\n",
      "        \"Organisation name\": \"https://www.nottingham.ac.uk/||University Of Nottingham\",\n",
      "        \"Data set\": \"PANTHER\",\n",
      "        \"Care type\": \"Cohort\",\n",
      "        \"Health area\": \"COVID\",\n",
      "        \"Link\": \"https://healthdatagateway.org/en/dataset/714||Gateway\"\n",
      "    },\n",
      "    {\n",
      "        \"Organisation name\": \"https://www.nottingham.ac.uk/||University Of Nottingham\",\n",
      "        \"Data set\": \"GOAL\",\n",
      "        \"Care type\": \"Registry\",\n",
      "        \"Health area\": \"Osteoarthritis\",\n",
      "        \"Link\": \"\"\n",
      "    },\n",
      "    {\n",
      "        \"Organisation name\": \"https://www.nottingham.ac.uk/||University Of Nottingham\",\n",
      "        \"Data set\": \"Omega 3 Cohort\",\n",
      "        \"Care type\": \"Cohort\",\n",
      "        \"Health area\": \"Nutrition\",\n",
      "        \"Link\": \"\"\n",
      "    },\n",
      "    {\n",
      "        \"Organisation name\": \"https://wessexhealthpartners.org.uk/||Wessex SNSDE\",\n",
      "        \"Data set\": \"COVID\",\n",
      "        \"Care type\": \"\",\n",
      "        \"Health area\": \"\",\n",
      "        \"Link\": \"\"\n",
      "    },\n",
      "    {\n",
      "        \"Organisation name\": \"https://wessexhealthpartners.org.uk/||Wessex SNSDE\",\n",
      "        \"Data set\": \"Clinical trials are being considered that have completed\",\n",
      "        \"Care type\": \"\",\n",
      "        \"Health area\": \"\",\n",
      "        \"Link\": \"\"\n",
      "    },\n",
      "    {\n",
      "        \"Organisation name\": \"https://wessexhealthpartners.org.uk/||Wessex SNSDE\",\n",
      "        \"Data set\": \"ECRIN\",\n",
      "        \"Care type\": \"\",\n",
      "        \"Health area\": \"\",\n",
      "        \"Link\": \"\"\n",
      "    },\n",
      "    {\n",
      "        \"Organisation name\": \"https://wessexhealthpartners.org.uk/||Wessex SNSDE\",\n",
      "        \"Data set\": \"HICS submissions\",\n",
      "        \"Care type\": \"\",\n",
      "        \"Health area\": \"\",\n",
      "        \"Link\": \"\"\n",
      "    }\n",
      "]\n"
     ]
    }
   ],
   "source": [
    "pretty = json.dumps(json_dict, indent=4)\n",
    "print(pretty)"
   ]
  },
  {
   "cell_type": "markdown",
   "id": "34d17af0-af28-4a56-951e-fd04856c183d",
   "metadata": {},
   "source": [
    "Test pretty-printed JSON for comaptibility"
   ]
  },
  {
   "cell_type": "code",
   "execution_count": 11,
   "id": "4175463a-d215-47f9-b9a1-1b4c6b538066",
   "metadata": {},
   "outputs": [],
   "source": [
    "pretty_dict = json.loads(pretty)"
   ]
  },
  {
   "cell_type": "code",
   "execution_count": 12,
   "id": "4b5fc66c-fd5e-4ee9-90ab-f2de9668987b",
   "metadata": {},
   "outputs": [
    {
     "data": {
      "text/plain": [
       "True"
      ]
     },
     "execution_count": 12,
     "metadata": {},
     "output_type": "execute_result"
    }
   ],
   "source": [
    "pretty_dict == json_dict"
   ]
  },
  {
   "cell_type": "markdown",
   "id": "dbe32422-bb01-49e3-ba4f-7fcb170e0359",
   "metadata": {},
   "source": [
    "Write the JSON string to a text file:"
   ]
  },
  {
   "cell_type": "code",
   "execution_count": 13,
   "id": "0ccfce67-b968-4a10-a43b-5fea2274e42b",
   "metadata": {},
   "outputs": [
    {
     "name": "stdout",
     "output_type": "stream",
     "text": [
      "23590 characters written to datasets.json\n"
     ]
    }
   ],
   "source": [
    "json_file_name = 'datasets.json'\n",
    "with open(json_file_name, mode='wt') as json_file_obj:\n",
    "    # chars = json_file_obj.write(json_str)\n",
    "    chars = json_file_obj.write(pretty)\n",
    "print(f'{chars} characters written to {json_file_name}')"
   ]
  },
  {
   "cell_type": "code",
   "execution_count": null,
   "id": "cfbdc7f1-de78-406e-ade4-0dc104f59b89",
   "metadata": {},
   "outputs": [],
   "source": []
  },
  {
   "cell_type": "code",
   "execution_count": null,
   "id": "f42bac91-a13d-4740-bceb-5d17f1ad4d93",
   "metadata": {},
   "outputs": [],
   "source": []
  }
 ],
 "metadata": {
  "kernelspec": {
   "display_name": "Python 3 (ipykernel)",
   "language": "python",
   "name": "python3"
  },
  "language_info": {
   "codemirror_mode": {
    "name": "ipython",
    "version": 3
   },
   "file_extension": ".py",
   "mimetype": "text/x-python",
   "name": "python",
   "nbconvert_exporter": "python",
   "pygments_lexer": "ipython3",
   "version": "3.8.16"
  }
 },
 "nbformat": 4,
 "nbformat_minor": 5
}
