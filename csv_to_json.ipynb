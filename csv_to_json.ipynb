{
 "cells": [
  {
   "cell_type": "markdown",
   "id": "be7d58a6-001d-4271-bf8c-2f32269a7a28",
   "metadata": {},
   "source": [
    "# UK OMOP Dataset Table\n",
    "Convert a CSV file created in Excel to JSON format for GitHub.\n",
    "Also, export as Word table?"
   ]
  },
  {
   "cell_type": "code",
   "execution_count": 1,
   "id": "d17fb8a3-12f5-47a4-9589-d1baf5730a5a",
   "metadata": {},
   "outputs": [],
   "source": [
    "import pandas as pd\n",
    "from IPython.display import JSON\n",
    "import json"
   ]
  },
  {
   "cell_type": "markdown",
   "id": "3a1ee3db-2635-4e67-addc-71f9dece5594",
   "metadata": {},
   "source": [
    "Import CSV file"
   ]
  },
  {
   "cell_type": "code",
   "execution_count": 6,
   "id": "17447c36-688e-44c7-8e7b-2b4acead4e7e",
   "metadata": {},
   "outputs": [],
   "source": [
    "source_file_name = 'Combined Organisation Dataset Table (v4).csv'"
   ]
  },
  {
   "cell_type": "code",
   "execution_count": 36,
   "id": "8063359b-cb34-415d-9678-dd4434cb7367",
   "metadata": {},
   "outputs": [
    {
     "name": "stdout",
     "output_type": "stream",
     "text": [
      "<class 'pandas.core.frame.DataFrame'>\n",
      "RangeIndex: 105 entries, 0 to 104\n",
      "Data columns (total 10 columns):\n",
      " #   Column                       Non-Null Count  Dtype \n",
      "---  ------                       --------------  ----- \n",
      " 0   Organisation                 105 non-null    object\n",
      " 1   Organisation link            105 non-null    object\n",
      " 2   Organisation with Hyperlink  105 non-null    object\n",
      " 3   Dataset on portal?           105 non-null    bool  \n",
      " 4   Dataset on Gateway?          105 non-null    bool  \n",
      " 5   Cohort Discovery?            105 non-null    bool  \n",
      " 6   Data set                     105 non-null    object\n",
      " 7   Care type                    105 non-null    object\n",
      " 8   Health area                  105 non-null    object\n",
      " 9   Repository Link              105 non-null    object\n",
      "dtypes: bool(3), object(7)\n",
      "memory usage: 6.2+ KB\n"
     ]
    }
   ],
   "source": [
    "table = pd.read_csv(source_file_name).fillna(method='ffill')\n",
    "#  dtype={'Dataset on portal?': bool, 'Dataset on Gateway?': bool, 'Cohort Discovery?': bool}\n",
    "table.info()"
   ]
  },
  {
   "cell_type": "markdown",
   "id": "8c5ab56a-de35-4119-93a6-3409ee1951b3",
   "metadata": {},
   "source": [
    "Filter out unwanted columns for JSON file!\n",
    "\n",
    "We don't want `'Organisation with Hyperlink'` as it is saved as plain text. We don't want `'Repository Link'` as the forward filling inserts incorrect values."
   ]
  },
  {
   "cell_type": "code",
   "execution_count": 37,
   "id": "55ca4efe-9c59-4bae-b921-320aeb10e753",
   "metadata": {},
   "outputs": [
    {
     "name": "stdout",
     "output_type": "stream",
     "text": [
      "<class 'pandas.core.frame.DataFrame'>\n",
      "RangeIndex: 105 entries, 0 to 104\n",
      "Data columns (total 8 columns):\n",
      " #   Column               Non-Null Count  Dtype \n",
      "---  ------               --------------  ----- \n",
      " 0   Organisation         105 non-null    object\n",
      " 1   Organisation link    105 non-null    object\n",
      " 2   Dataset on portal?   105 non-null    bool  \n",
      " 3   Dataset on Gateway?  105 non-null    bool  \n",
      " 4   Cohort Discovery?    105 non-null    bool  \n",
      " 5   Data set             105 non-null    object\n",
      " 6   Care type            105 non-null    object\n",
      " 7   Health area          105 non-null    object\n",
      "dtypes: bool(3), object(5)\n",
      "memory usage: 4.5+ KB\n"
     ]
    }
   ],
   "source": [
    "table.drop(['Organisation with Hyperlink', 'Repository Link'], inplace=True, axis=1)\n",
    "table.info()"
   ]
  },
  {
   "cell_type": "markdown",
   "id": "ab5f2e14-1c6c-483d-9d81-79135c57b211",
   "metadata": {},
   "source": [
    "Export as an edited (filled etc.) CSV:"
   ]
  },
  {
   "cell_type": "code",
   "execution_count": 38,
   "id": "45444ebd-b84e-4044-a4a5-bbd6b521937a",
   "metadata": {},
   "outputs": [],
   "source": [
    "table.to_csv('Dataset_Table.csv', index=False)"
   ]
  },
  {
   "cell_type": "markdown",
   "id": "a50ed5d6-f78e-47bd-9b19-8816a219f7ed",
   "metadata": {},
   "source": [
    "Convert tabular data to JSON string format and a JSON `dict`:"
   ]
  },
  {
   "cell_type": "code",
   "execution_count": 39,
   "id": "06cf263d-cb9c-4454-92c2-26519b5e00aa",
   "metadata": {},
   "outputs": [],
   "source": [
    "json_str = table.to_json(orient='index')"
   ]
  },
  {
   "cell_type": "code",
   "execution_count": 40,
   "id": "e8f8f7a6-8ce0-42c8-b6ff-74751d1098a7",
   "metadata": {},
   "outputs": [],
   "source": [
    "json_dict = json.loads(json_str)"
   ]
  },
  {
   "cell_type": "markdown",
   "id": "a18b35c4-b3e5-4995-be12-a73dae354487",
   "metadata": {},
   "source": [
    "Display the JSON data interactively:"
   ]
  },
  {
   "cell_type": "code",
   "execution_count": 42,
   "id": "7a2f6418-d70f-437f-9691-c5bf0a67ef7a",
   "metadata": {},
   "outputs": [
    {
     "data": {
      "application/json": {
       "0": {
        "Care type": "Secondary",
        "Cohort Discovery?": false,
        "Data set": "Akrivia (AKRDB)",
        "Dataset on Gateway?": false,
        "Dataset on portal?": true,
        "Health area": "Mental health",
        "Organisation": "Akrivia Health",
        "Organisation link": "https://akriviahealth.com"
       },
       "1": {
        "Care type": "Cohort",
        "Cohort Discovery?": true,
        "Data set": "ALSPAC",
        "Dataset on Gateway?": false,
        "Dataset on portal?": false,
        "Health area": "General",
        "Organisation": "Avon Longitudinal Study of Parents and Children",
        "Organisation link": "https://www.bristol.ac.uk/alspac/"
       },
       "10": {
        "Care type": "Registry",
        "Cohort Discovery?": false,
        "Data set": "NICOR",
        "Dataset on Gateway?": false,
        "Dataset on portal?": false,
        "Health area": "Heart failure",
        "Organisation": "BHF Data Science Centre (CVD-COVID-UK/COVID-IMPACT)",
        "Organisation link": "https://bhfdatasciencecentre.org/"
       },
       "100": {
        "Care type": "Cohort",
        "Cohort Discovery?": false,
        "Data set": "HICS submissions",
        "Dataset on Gateway?": false,
        "Dataset on portal?": false,
        "Health area": "Nutrition",
        "Organisation": "Wessex SNSDE",
        "Organisation link": "https://wessexhealthpartners.org.uk/"
       },
       "101": {
        "Care type": "Cohort",
        "Cohort Discovery?": false,
        "Data set": "HICS submissions",
        "Dataset on Gateway?": false,
        "Dataset on portal?": false,
        "Health area": "Nutrition",
        "Organisation": "Wessex SNSDE",
        "Organisation link": "https://wessexhealthpartners.org.uk/"
       },
       "102": {
        "Care type": "Cohort",
        "Cohort Discovery?": false,
        "Data set": "HICS submissions",
        "Dataset on Gateway?": false,
        "Dataset on portal?": false,
        "Health area": "Nutrition",
        "Organisation": "Wessex SNSDE",
        "Organisation link": "https://wessexhealthpartners.org.uk/"
       },
       "103": {
        "Care type": "Cohort",
        "Cohort Discovery?": false,
        "Data set": "HICS submissions",
        "Dataset on Gateway?": false,
        "Dataset on portal?": false,
        "Health area": "Nutrition",
        "Organisation": "Wessex SNSDE",
        "Organisation link": "https://wessexhealthpartners.org.uk/"
       },
       "104": {
        "Care type": "Cohort",
        "Cohort Discovery?": false,
        "Data set": "HICS submissions",
        "Dataset on Gateway?": false,
        "Dataset on portal?": false,
        "Health area": "Nutrition",
        "Organisation": "Wessex SNSDE",
        "Organisation link": "https://wessexhealthpartners.org.uk/"
       },
       "11": {
        "Care type": "Primary",
        "Cohort Discovery?": false,
        "Data set": "Discover-NOW",
        "Dataset on Gateway?": false,
        "Dataset on portal?": false,
        "Health area": "General",
        "Organisation": "Discover-NOW",
        "Organisation link": "https://discover-now.co.uk/"
       },
       "12": {
        "Care type": "?",
        "Cohort Discovery?": false,
        "Data set": "?",
        "Dataset on Gateway?": false,
        "Dataset on portal?": false,
        "Health area": "?",
        "Organisation": "Eastern AHSN (Academic Health Science Network)",
        "Organisation link": "https://healthinnovationeast.co.uk/"
       },
       "13": {
        "Care type": "Cohort",
        "Cohort Discovery?": true,
        "Data set": "GS:SFHS",
        "Dataset on Gateway?": false,
        "Dataset on portal?": false,
        "Health area": "General",
        "Organisation": "Generation Scotland",
        "Organisation link": "https://www.ed.ac.uk/generation-scotland"
       },
       "14": {
        "Care type": "Various",
        "Cohort Discovery?": false,
        "Data set": "NHSD HES datasets",
        "Dataset on Gateway?": false,
        "Dataset on portal?": false,
        "Health area": "Cancer, rare diseases, COVID",
        "Organisation": "Genomics England",
        "Organisation link": "https://www.genomicsengland.co.uk/"
       },
       "15": {
        "Care type": "Various",
        "Cohort Discovery?": false,
        "Data set": "100,000 Genomes",
        "Dataset on Gateway?": true,
        "Dataset on portal?": false,
        "Health area": "Cancer, rare diseases, COVID",
        "Organisation": "Genomics England",
        "Organisation link": "https://www.genomicsengland.co.uk/"
       },
       "16": {
        "Care type": "Various",
        "Cohort Discovery?": false,
        "Data set": "Internal Cancer and Rare Disease datasets",
        "Dataset on Gateway?": false,
        "Dataset on portal?": false,
        "Health area": "Cancer, rare diseases, COVID",
        "Organisation": "Genomics England",
        "Organisation link": "https://www.genomicsengland.co.uk/"
       },
       "17": {
        "Care type": "Various",
        "Cohort Discovery?": false,
        "Data set": "NCRAS",
        "Dataset on Gateway?": false,
        "Dataset on portal?": false,
        "Health area": "Cancer, rare diseases, COVID",
        "Organisation": "Genomics England",
        "Organisation link": "https://www.genomicsengland.co.uk/"
       },
       "18": {
        "Care type": "Various",
        "Cohort Discovery?": false,
        "Data set": "NHSD Cancer datasets",
        "Dataset on Gateway?": false,
        "Dataset on portal?": false,
        "Health area": "Cancer, rare diseases, COVID",
        "Organisation": "Genomics England",
        "Organisation link": "https://www.genomicsengland.co.uk/"
       },
       "19": {
        "Care type": "Various",
        "Cohort Discovery?": false,
        "Data set": "UKHSA COVID Test Results",
        "Dataset on Gateway?": false,
        "Dataset on portal?": false,
        "Health area": "Cancer, rare diseases, COVID",
        "Organisation": "Genomics England",
        "Organisation link": "https://www.genomicsengland.co.uk/"
       },
       "2": {
        "Care type": "Inpatient (hospital) care/Outpatient specialist care/Pharmacy care",
        "Cohort Discovery?": false,
        "Data set": "Barts",
        "Dataset on Gateway?": false,
        "Dataset on portal?": true,
        "Health area": "General",
        "Organisation": "Barts Health NHS Trust",
        "Organisation link": "https://www.bartshealth.nhs.uk/"
       },
       "20": {
        "Care type": "Secondary",
        "Cohort Discovery?": false,
        "Data set": "GOSH Epic data (2019-2023) demographics, visits, medication administrations, diagnoses, procedures",
        "Dataset on Gateway?": false,
        "Dataset on portal?": false,
        "Health area": "Paediatric",
        "Organisation": "Great Ormond Street Hospital",
        "Organisation link": "https://www.gosh.nhs.uk/"
       },
       "21": {
        "Care type": "Cohort",
        "Cohort Discovery?": true,
        "Data set": "Co-STARS",
        "Dataset on Gateway?": true,
        "Dataset on portal?": false,
        "Health area": "COVID",
        "Organisation": "Great Ormond Street Hospital",
        "Organisation link": "https://www.gosh.nhs.uk/"
       },
       "22": {
        "Care type": "Registry",
        "Cohort Discovery?": false,
        "Data set": "NHIC RENAL GSTT",
        "Dataset on Gateway?": false,
        "Dataset on portal?": true,
        "Health area": "Renal transplantation",
        "Organisation": "Guy’s & St Thomas’ Hospital NHS Foundation Trust",
        "Organisation link": "https://www.guysandstthomas.nhs.uk/"
       },
       "23": {
        "Care type": "Secondary",
        "Cohort Discovery?": false,
        "Data set": "HES",
        "Dataset on Gateway?": false,
        "Dataset on portal?": true,
        "Health area": "General",
        "Organisation": "Harvey Walsh Ltd",
        "Organisation link": "https://www.harveywalsh.co.uk/"
       },
       "24": {
        "Care type": "Primary, Secondary, Tertiary",
        "Cohort Discovery?": false,
        "Data set": "ICHT Core Data",
        "Dataset on Gateway?": false,
        "Dataset on portal?": false,
        "Health area": "General",
        "Organisation": "Imperial College Healthcare NHS Trust",
        "Organisation link": "https://www.imperial.nhs.uk/"
       },
       "25": {
        "Care type": "Cohort",
        "Cohort Discovery?": false,
        "Data set": "REACT-2",
        "Dataset on Gateway?": true,
        "Dataset on portal?": false,
        "Health area": "COVID",
        "Organisation": "Imperial College London",
        "Organisation link": "https://www.imperial.ac.uk/"
       },
       "26": {
        "Care type": "Secondary +",
        "Cohort Discovery?": false,
        "Data set": "NNRD",
        "Dataset on Gateway?": true,
        "Dataset on portal?": true,
        "Health area": "Neonatal",
        "Organisation": "Imperial College London",
        "Organisation link": "https://www.imperial.ac.uk/neonatal-data-analysis-unit/neonatal-data-analysis-unit/"
       },
       "27": {
        "Care type": "Secondary +",
        "Cohort Discovery?": false,
        "Data set": "IMRD",
        "Dataset on Gateway?": false,
        "Dataset on portal?": false,
        "Health area": "Neonatal",
        "Organisation": "IQVIA",
        "Organisation link": "https://www.iqvia.com/"
       },
       "28": {
        "Care type": "Registry",
        "Cohort Discovery?": true,
        "Data set": "CO-CIN",
        "Dataset on Gateway?": false,
        "Dataset on portal?": false,
        "Health area": "COVID",
        "Organisation": "ISARIC4C",
        "Organisation link": "https://isaric4c.net/"
       },
       "29": {
        "Care type": "Registry",
        "Cohort Discovery?": false,
        "Data set": "SLSR",
        "Dataset on Gateway?": false,
        "Dataset on portal?": true,
        "Health area": "Stroke",
        "Organisation": "King's College London/Guy's and St Thomas' NHS Foundation Trust",
        "Organisation link": "https://www.kcl.ac.uk/research/stroke-research-group"
       },
       "3": {
        "Care type": "Cohort",
        "Cohort Discovery?": true,
        "Data set": "Genetics of Asthma Severity & Phenotypes",
        "Dataset on Gateway?": false,
        "Dataset on portal?": false,
        "Health area": "Asthma",
        "Organisation": "BREATHE",
        "Organisation link": "https://www.ed.ac.uk/usher/breathe"
       },
       "30": {
        "Care type": "Secondary",
        "Cohort Discovery?": false,
        "Data set": "EPR data warehouse (Phase 1 completed) (FlexDW) [Demographics, Visits, Conditions, Measurements, Observations, Drugs. All above from secondary care.]",
        "Dataset on Gateway?": false,
        "Dataset on portal?": false,
        "Health area": "General",
        "Organisation": "Lancashire Teaching Hospitals NHS Foundation Trust",
        "Organisation link": "https://www.lancsteachinghospitals.nhs.uk/"
       },
       "31": {
        "Care type": "Registry",
        "Cohort Discovery?": false,
        "Data set": "Somerset Cancer Registry (in progress) (CancerTrack)",
        "Dataset on Gateway?": false,
        "Dataset on portal?": false,
        "Health area": "Cancer",
        "Organisation": "Lancashire Teaching Hospitals NHS Foundation Trust",
        "Organisation link": "https://www.lancsteachinghospitals.nhs.uk/"
       },
       "32": {
        "Care type": "Inpatient (hospital) care",
        "Cohort Discovery?": false,
        "Data set": "LTHT",
        "Dataset on Gateway?": false,
        "Dataset on portal?": true,
        "Health area": "General",
        "Organisation": "Leeds Teaching Hospitals NHS Trust",
        "Organisation link": "https://www.leedsth.nhs.uk/"
       },
       "33": {
        "Care type": "Registry",
        "Cohort Discovery?": false,
        "Data set": "National Joint Registry NJR",
        "Dataset on Gateway?": false,
        "Dataset on portal?": false,
        "Health area": "Joint replacement",
        "Organisation": "National Joint Registry (HQIP)",
        "Organisation link": "https://www.njrcentre.org.uk/"
       },
       "34": {
        "Care type": "Biobank",
        "Cohort Discovery?": true,
        "Data set": "Sample holding",
        "Dataset on Gateway?": false,
        "Dataset on portal?": false,
        "Health area": "General",
        "Organisation": "NIHR BioResource",
        "Organisation link": "https://bioresource.nihr.ac.uk/"
       },
       "35": {
        "Care type": "Outpatient general practitioner care",
        "Cohort Discovery?": false,
        "Data set": "Optimum Patient Care Research Database",
        "Dataset on Gateway?": true,
        "Dataset on portal?": true,
        "Health area": "General",
        "Organisation": "Optimum Patient Care",
        "Organisation link": "https://www.optimumpatientcare.org/"
       },
       "36": {
        "Care type": "Cohort",
        "Cohort Discovery?": false,
        "Data set": "Oxford Healthcare Workers",
        "Dataset on Gateway?": true,
        "Dataset on portal?": false,
        "Health area": "COVID",
        "Organisation": "Oxford University Hospitals",
        "Organisation link": "https://www.ouh.nhs.uk/"
       },
       "37": {
        "Care type": "Registry",
        "Cohort Discovery?": false,
        "Data set": "CRP",
        "Dataset on Gateway?": true,
        "Dataset on portal?": false,
        "Health area": "COVID",
        "Organisation": "PIONEER",
        "Organisation link": "https://www.pioneerdatahub.co.uk/"
       },
       "38": {
        "Care type": "Registry",
        "Cohort Discovery?": false,
        "Data set": "Hospital COVID patients",
        "Dataset on Gateway?": true,
        "Dataset on portal?": false,
        "Health area": "COVID",
        "Organisation": "PIONEER",
        "Organisation link": "https://www.pioneerdatahub.co.uk/"
       },
       "39": {
        "Care type": "Registry",
        "Cohort Discovery?": false,
        "Data set": "Ventilatory strategies and outcomes",
        "Dataset on Gateway?": true,
        "Dataset on portal?": false,
        "Health area": "COVID",
        "Organisation": "PIONEER",
        "Organisation link": "https://www.pioneerdatahub.co.uk/"
       },
       "4": {
        "Care type": "Primary",
        "Cohort Discovery?": false,
        "Data set": "CPRD Aurum",
        "Dataset on Gateway?": false,
        "Dataset on portal?": true,
        "Health area": "General",
        "Organisation": "Clinical Practice Research Datalink",
        "Organisation link": "https://www.cprd.com/"
       },
       "40": {
        "Care type": "Registry",
        "Cohort Discovery?": false,
        "Data set": "COPD",
        "Dataset on Gateway?": true,
        "Dataset on portal?": false,
        "Health area": "COVID",
        "Organisation": "PIONEER",
        "Organisation link": "https://www.pioneerdatahub.co.uk/"
       },
       "41": {
        "Care type": "Registry",
        "Cohort Discovery?": false,
        "Data set": "Coagulopathies & thrombosis",
        "Dataset on Gateway?": true,
        "Dataset on portal?": false,
        "Health area": "COVID",
        "Organisation": "PIONEER",
        "Organisation link": "https://www.pioneerdatahub.co.uk/"
       },
       "42": {
        "Care type": "Registry",
        "Cohort Discovery?": true,
        "Data set": "Scottish Cancer Registry (SMR06)",
        "Dataset on Gateway?": false,
        "Dataset on portal?": false,
        "Health area": "Cancer",
        "Organisation": "Public Health Scotland",
        "Organisation link": "https://publichealthscotland.scot/"
       },
       "43": {
        "Care type": "Secondary",
        "Cohort Discovery?": true,
        "Data set": "Scottish Morbidity Record (SMR00)",
        "Dataset on Gateway?": false,
        "Dataset on portal?": false,
        "Health area": "General",
        "Organisation": "Public Health Scotland",
        "Organisation link": "https://publichealthscotland.scot/"
       },
       "44": {
        "Care type": "Other",
        "Cohort Discovery?": true,
        "Data set": "NRS - Deaths Data",
        "Dataset on Gateway?": false,
        "Dataset on portal?": false,
        "Health area": "Deaths",
        "Organisation": "Public Health Scotland",
        "Organisation link": "https://publichealthscotland.scot/"
       },
       "45": {
        "Care type": "Other",
        "Cohort Discovery?": true,
        "Data set": "COVID Tests",
        "Dataset on Gateway?": false,
        "Dataset on portal?": false,
        "Health area": "COVID",
        "Organisation": "Public Health Scotland",
        "Organisation link": "https://publichealthscotland.scot/"
       },
       "46": {
        "Care type": "Other",
        "Cohort Discovery?": true,
        "Data set": "Scottish Covid-19 Vaccination Data",
        "Dataset on Gateway?": false,
        "Dataset on portal?": false,
        "Health area": "COVID",
        "Organisation": "Public Health Scotland",
        "Organisation link": "https://publichealthscotland.scot/"
       },
       "47": {
        "Care type": "Registry",
        "Cohort Discovery?": false,
        "Data set": "National Hip Fracture Database (England and Wales)",
        "Dataset on Gateway?": false,
        "Dataset on portal?": true,
        "Health area": "Hip fractures",
        "Organisation": "Queen Mary University of London",
        "Organisation link": "https://www.qmul.ac.uk/"
       },
       "48": {
        "Care type": "Registry",
        "Cohort Discovery?": false,
        "Data set": "Fracture Liaison Service Database",
        "Dataset on Gateway?": false,
        "Dataset on portal?": true,
        "Health area": "Fragility fracture",
        "Organisation": "Queen Mary University of London",
        "Organisation link": "https://www.qmul.ac.uk/"
       },
       "49": {
        "Care type": "Primary",
        "Cohort Discovery?": false,
        "Data set": "ORCHID",
        "Dataset on Gateway?": false,
        "Dataset on portal?": true,
        "Health area": "General",
        "Organisation": "Oxford University, Royal College of General Practitioners Research and Surveillance Centre",
        "Organisation link": "https://orchid.phc.ox.ac.uk/surveillance"
       },
       "5": {
        "Care type": "Primary + Inpatient",
        "Cohort Discovery?": false,
        "Data set": "CPRD Aurum linked HES APC data",
        "Dataset on Gateway?": false,
        "Dataset on portal?": true,
        "Health area": "General",
        "Organisation": "Clinical Practice Research Datalink",
        "Organisation link": "https://www.cprd.com/"
       },
       "50": {
        "Care type": "Other",
        "Cohort Discovery?": true,
        "Data set": "Covid Vaccination Dataset (CVVD)",
        "Dataset on Gateway?": false,
        "Dataset on portal?": false,
        "Health area": "COVID",
        "Organisation": "SAIL Databank",
        "Organisation link": "https://saildatabank.com/"
       },
       "51": {
        "Care type": "Outpatient general practitioner care/Registry",
        "Cohort Discovery?": true,
        "Data set": "NCCH",
        "Dataset on Gateway?": false,
        "Dataset on portal?": true,
        "Health area": "COVID",
        "Organisation": "SAIL Databank",
        "Organisation link": "https://saildatabank.com/"
       },
       "52": {
        "Care type": "Other",
        "Cohort Discovery?": true,
        "Data set": "COVID-19 Test Results (PATD)",
        "Dataset on Gateway?": false,
        "Dataset on portal?": true,
        "Health area": "COVID",
        "Organisation": "SAIL Databank",
        "Organisation link": "https://saildatabank.com/"
       },
       "53": {
        "Care type": "Outpatient general practitioner care",
        "Cohort Discovery?": true,
        "Data set": "LDN",
        "Dataset on Gateway?": false,
        "Dataset on portal?": true,
        "Health area": "General",
        "Organisation": "South East London Integrated Care Board",
        "Organisation link": "https://www.selondonics.org/icb/"
       },
       "54": {
        "Care type": "Cohort",
        "Cohort Discovery?": true,
        "Data set": "TwinsUK",
        "Dataset on Gateway?": false,
        "Dataset on portal?": false,
        "Health area": "General",
        "Organisation": "TwinsUK",
        "Organisation link": "https://twinsuk.ac.uk/"
       },
       "55": {
        "Care type": "Cohort",
        "Cohort Discovery?": false,
        "Data set": "SIREN",
        "Dataset on Gateway?": true,
        "Dataset on portal?": false,
        "Health area": "COVID",
        "Organisation": "UK Health Security Agency",
        "Organisation link": "https://www.gov.uk/government/organisations/uk-health-security-agency"
       },
       "56": {
        "Care type": "Biobank",
        "Cohort Discovery?": false,
        "Data set": "UK Biobank",
        "Dataset on Gateway?": true,
        "Dataset on portal?": true,
        "Health area": "General",
        "Organisation": "University College London",
        "Organisation link": "https://www.ucl.ac.uk/"
       },
       "57": {
        "Care type": "Cohort",
        "Cohort Discovery?": false,
        "Data set": "VIVALDI 2",
        "Dataset on Gateway?": true,
        "Dataset on portal?": false,
        "Health area": "COVID",
        "Organisation": "University College London",
        "Organisation link": "https://www.ucl.ac.uk/"
       },
       "58": {
        "Care type": "Cohort",
        "Cohort Discovery?": true,
        "Data set": "COVIDsortium",
        "Dataset on Gateway?": true,
        "Dataset on portal?": false,
        "Health area": "COVID",
        "Organisation": "University College London",
        "Organisation link": "https://www.ucl.ac.uk/"
       },
       "59": {
        "Care type": "Secondary",
        "Cohort Discovery?": false,
        "Data set": "Critical Care Dataset",
        "Dataset on Gateway?": false,
        "Dataset on portal?": false,
        "Health area": "General",
        "Organisation": "UCLH",
        "Organisation link": "https://www.uclhospitals.brc.nihr.ac.uk/clinical-research-informatics-unit"
       },
       "6": {
        "Care type": "Inpatient (hospital) care/Outpatient general practitioner care/Outpatient specialist care/Long term/ skill nursing facility care/Pharmacy care/Other",
        "Cohort Discovery?": false,
        "Data set": "cBradford",
        "Dataset on Gateway?": false,
        "Dataset on portal?": true,
        "Health area": "General",
        "Organisation": "Connected Bradford",
        "Organisation link": "https://www.bradfordresearch.nhs.uk/our-research-teams/connected-bradford/"
       },
       "60": {
        "Care type": "Inpatient (hospital) care",
        "Cohort Discovery?": false,
        "Data set": "General Inpatient Dataset (EHDEN)",
        "Dataset on Gateway?": false,
        "Dataset on portal?": true,
        "Health area": "General",
        "Organisation": "UCLH",
        "Organisation link": "https://www.uclhospitals.brc.nihr.ac.uk/clinical-research-informatics-unit"
       },
       "61": {
        "Care type": "?Registry",
        "Cohort Discovery?": false,
        "Data set": "Myeloma Dataset",
        "Dataset on Gateway?": false,
        "Dataset on portal?": false,
        "Health area": "Cancer",
        "Organisation": "UCLH",
        "Organisation link": "https://www.uclhospitals.brc.nihr.ac.uk/clinical-research-informatics-unit"
       },
       "62": {
        "Care type": "?Registry",
        "Cohort Discovery?": false,
        "Data set": "Sepsis Research Dataset",
        "Dataset on Gateway?": false,
        "Dataset on portal?": false,
        "Health area": "Sepsis",
        "Organisation": "UCLH",
        "Organisation link": "https://www.uclhospitals.brc.nihr.ac.uk/clinical-research-informatics-unit"
       },
       "63": {
        "Care type": "?Registry",
        "Cohort Discovery?": false,
        "Data set": "Blood Transfusion and TDA Dataset",
        "Dataset on Gateway?": false,
        "Dataset on portal?": false,
        "Health area": "Blood transfusion",
        "Organisation": "UCLH",
        "Organisation link": "https://www.uclhospitals.brc.nihr.ac.uk/clinical-research-informatics-unit"
       },
       "64": {
        "Care type": "Cohort",
        "Cohort Discovery?": true,
        "Data set": "TRACK-COVID",
        "Dataset on Gateway?": true,
        "Dataset on portal?": false,
        "Health area": "COVID",
        "Organisation": "University of Cambridge",
        "Organisation link": "https://www.cam.ac.uk/"
       },
       "65": {
        "Care type": "Cohort",
        "Cohort Discovery?": true,
        "Data set": "Follow-COVID",
        "Dataset on Gateway?": false,
        "Dataset on portal?": false,
        "Health area": "COVID",
        "Organisation": "University of Dundee Health Informatics Centre (HIC)",
        "Organisation link": "https://www.dundee.ac.uk/hic"
       },
       "66": {
        "Care type": "Cohort",
        "Cohort Discovery?": true,
        "Data set": "MATCH",
        "Dataset on Gateway?": false,
        "Dataset on portal?": false,
        "Health area": "COVID",
        "Organisation": "University of Dundee Health Informatics Centre (HIC)",
        "Organisation link": "https://www.dundee.ac.uk/hic"
       },
       "67": {
        "Care type": "Outpatient specialist care/Pharmacy care/Registry/Other",
        "Cohort Discovery?": true,
        "Data set": "HIC",
        "Dataset on Gateway?": false,
        "Dataset on portal?": true,
        "Health area": "COVID",
        "Organisation": "University of Dundee Health Informatics Centre (HIC)",
        "Organisation link": "https://www.dundee.ac.uk/hic"
       },
       "68": {
        "Care type": "Secondary",
        "Cohort Discovery?": false,
        "Data set": "Cancer (SESCD)",
        "Dataset on Gateway?": true,
        "Dataset on portal?": false,
        "Health area": "Cancer",
        "Organisation": "University of Edinburgh (DataLoch)",
        "Organisation link": "https://dataloch.org/"
       },
       "69": {
        "Care type": "Other",
        "Cohort Discovery?": false,
        "Data set": "COVID19",
        "Dataset on Gateway?": false,
        "Dataset on portal?": true,
        "Health area": "COVID",
        "Organisation": "University of Edinburgh (DataLoch)",
        "Organisation link": "https://dataloch.org/"
       },
       "7": {
        "Care type": "Inpatient",
        "Cohort Discovery?": false,
        "Data set": "HES-APC",
        "Dataset on Gateway?": false,
        "Dataset on portal?": false,
        "Health area": "General",
        "Organisation": "BHF Data Science Centre (CVD-COVID-UK/COVID-IMPACT)",
        "Organisation link": "https://bhfdatasciencecentre.org/"
       },
       "70": {
        "Care type": "Other",
        "Cohort Discovery?": false,
        "Data set": "EiC dataset",
        "Dataset on Gateway?": false,
        "Dataset on portal?": false,
        "Health area": "COVID",
        "Organisation": "University of Edinburgh (DataLoch)",
        "Organisation link": "https://dataloch.org/"
       },
       "71": {
        "Care type": "Other",
        "Cohort Discovery?": false,
        "Data set": "DECOVID",
        "Dataset on Gateway?": false,
        "Dataset on portal?": false,
        "Health area": "COVID",
        "Organisation": "University Hospitals Birmingham NHS Foundation Trust ",
        "Organisation link": "https://www.uhb.nhs.uk/"
       },
       "72": {
        "Care type": "Other",
        "Cohort Discovery?": false,
        "Data set": "TBA",
        "Dataset on Gateway?": false,
        "Dataset on portal?": false,
        "Health area": "COVID",
        "Organisation": "University Hospitals Birmingham NHS Foundation Trust ",
        "Organisation link": "https://www.uhb.nhs.uk/"
       },
       "73": {
        "Care type": "Cohort",
        "Cohort Discovery?": true,
        "Data set": "ACE",
        "Dataset on Gateway?": true,
        "Dataset on portal?": false,
        "Health area": "COVID",
        "Organisation": "University Of Nottingham",
        "Organisation link": "https://www.nottingham.ac.uk/"
       },
       "74": {
        "Care type": "Cohort",
        "Cohort Discovery?": true,
        "Data set": "PANTHER",
        "Dataset on Gateway?": true,
        "Dataset on portal?": false,
        "Health area": "COVID",
        "Organisation": "University Of Nottingham",
        "Organisation link": "https://www.nottingham.ac.uk/"
       },
       "75": {
        "Care type": "Registry",
        "Cohort Discovery?": true,
        "Data set": "GOAL",
        "Dataset on Gateway?": false,
        "Dataset on portal?": false,
        "Health area": "Osteoarthritis",
        "Organisation": "University Of Nottingham",
        "Organisation link": "https://www.nottingham.ac.uk/"
       },
       "76": {
        "Care type": "Cohort",
        "Cohort Discovery?": true,
        "Data set": "Omega 3 Cohort",
        "Dataset on Gateway?": false,
        "Dataset on portal?": false,
        "Health area": "Nutrition",
        "Organisation": "University Of Nottingham",
        "Organisation link": "https://www.nottingham.ac.uk/"
       },
       "77": {
        "Care type": "Cohort",
        "Cohort Discovery?": false,
        "Data set": "COVID",
        "Dataset on Gateway?": false,
        "Dataset on portal?": false,
        "Health area": "Nutrition",
        "Organisation": "Wessex SNSDE",
        "Organisation link": "https://wessexhealthpartners.org.uk/"
       },
       "78": {
        "Care type": "Cohort",
        "Cohort Discovery?": false,
        "Data set": "Clinical trials are being considered that have completed",
        "Dataset on Gateway?": false,
        "Dataset on portal?": false,
        "Health area": "Nutrition",
        "Organisation": "Wessex SNSDE",
        "Organisation link": "https://wessexhealthpartners.org.uk/"
       },
       "79": {
        "Care type": "Cohort",
        "Cohort Discovery?": false,
        "Data set": "ECRIN",
        "Dataset on Gateway?": false,
        "Dataset on portal?": false,
        "Health area": "Nutrition",
        "Organisation": "Wessex SNSDE",
        "Organisation link": "https://wessexhealthpartners.org.uk/"
       },
       "8": {
        "Care type": "Other",
        "Cohort Discovery?": false,
        "Data set": "Death registrations",
        "Dataset on Gateway?": false,
        "Dataset on portal?": false,
        "Health area": "Deaths",
        "Organisation": "BHF Data Science Centre (CVD-COVID-UK/COVID-IMPACT)",
        "Organisation link": "https://bhfdatasciencecentre.org/"
       },
       "80": {
        "Care type": "Cohort",
        "Cohort Discovery?": false,
        "Data set": "HICS submissions",
        "Dataset on Gateway?": false,
        "Dataset on portal?": false,
        "Health area": "Nutrition",
        "Organisation": "Wessex SNSDE",
        "Organisation link": "https://wessexhealthpartners.org.uk/"
       },
       "81": {
        "Care type": "Cohort",
        "Cohort Discovery?": false,
        "Data set": "HICS submissions",
        "Dataset on Gateway?": false,
        "Dataset on portal?": false,
        "Health area": "Nutrition",
        "Organisation": "Wessex SNSDE",
        "Organisation link": "https://wessexhealthpartners.org.uk/"
       },
       "82": {
        "Care type": "Cohort",
        "Cohort Discovery?": false,
        "Data set": "HICS submissions",
        "Dataset on Gateway?": false,
        "Dataset on portal?": false,
        "Health area": "Nutrition",
        "Organisation": "Wessex SNSDE",
        "Organisation link": "https://wessexhealthpartners.org.uk/"
       },
       "83": {
        "Care type": "Cohort",
        "Cohort Discovery?": false,
        "Data set": "HICS submissions",
        "Dataset on Gateway?": false,
        "Dataset on portal?": false,
        "Health area": "Nutrition",
        "Organisation": "Wessex SNSDE",
        "Organisation link": "https://wessexhealthpartners.org.uk/"
       },
       "84": {
        "Care type": "Cohort",
        "Cohort Discovery?": false,
        "Data set": "HICS submissions",
        "Dataset on Gateway?": false,
        "Dataset on portal?": false,
        "Health area": "Nutrition",
        "Organisation": "Wessex SNSDE",
        "Organisation link": "https://wessexhealthpartners.org.uk/"
       },
       "85": {
        "Care type": "Cohort",
        "Cohort Discovery?": false,
        "Data set": "HICS submissions",
        "Dataset on Gateway?": false,
        "Dataset on portal?": false,
        "Health area": "Nutrition",
        "Organisation": "Wessex SNSDE",
        "Organisation link": "https://wessexhealthpartners.org.uk/"
       },
       "86": {
        "Care type": "Cohort",
        "Cohort Discovery?": false,
        "Data set": "HICS submissions",
        "Dataset on Gateway?": false,
        "Dataset on portal?": false,
        "Health area": "Nutrition",
        "Organisation": "Wessex SNSDE",
        "Organisation link": "https://wessexhealthpartners.org.uk/"
       },
       "87": {
        "Care type": "Cohort",
        "Cohort Discovery?": false,
        "Data set": "HICS submissions",
        "Dataset on Gateway?": false,
        "Dataset on portal?": false,
        "Health area": "Nutrition",
        "Organisation": "Wessex SNSDE",
        "Organisation link": "https://wessexhealthpartners.org.uk/"
       },
       "88": {
        "Care type": "Cohort",
        "Cohort Discovery?": false,
        "Data set": "HICS submissions",
        "Dataset on Gateway?": false,
        "Dataset on portal?": false,
        "Health area": "Nutrition",
        "Organisation": "Wessex SNSDE",
        "Organisation link": "https://wessexhealthpartners.org.uk/"
       },
       "89": {
        "Care type": "Cohort",
        "Cohort Discovery?": false,
        "Data set": "HICS submissions",
        "Dataset on Gateway?": false,
        "Dataset on portal?": false,
        "Health area": "Nutrition",
        "Organisation": "Wessex SNSDE",
        "Organisation link": "https://wessexhealthpartners.org.uk/"
       },
       "9": {
        "Care type": "Primary",
        "Cohort Discovery?": false,
        "Data set": "GPES",
        "Dataset on Gateway?": false,
        "Dataset on portal?": false,
        "Health area": "Pandemic",
        "Organisation": "BHF Data Science Centre (CVD-COVID-UK/COVID-IMPACT)",
        "Organisation link": "https://bhfdatasciencecentre.org/"
       },
       "90": {
        "Care type": "Cohort",
        "Cohort Discovery?": false,
        "Data set": "HICS submissions",
        "Dataset on Gateway?": false,
        "Dataset on portal?": false,
        "Health area": "Nutrition",
        "Organisation": "Wessex SNSDE",
        "Organisation link": "https://wessexhealthpartners.org.uk/"
       },
       "91": {
        "Care type": "Cohort",
        "Cohort Discovery?": false,
        "Data set": "HICS submissions",
        "Dataset on Gateway?": false,
        "Dataset on portal?": false,
        "Health area": "Nutrition",
        "Organisation": "Wessex SNSDE",
        "Organisation link": "https://wessexhealthpartners.org.uk/"
       },
       "92": {
        "Care type": "Cohort",
        "Cohort Discovery?": false,
        "Data set": "HICS submissions",
        "Dataset on Gateway?": false,
        "Dataset on portal?": false,
        "Health area": "Nutrition",
        "Organisation": "Wessex SNSDE",
        "Organisation link": "https://wessexhealthpartners.org.uk/"
       },
       "93": {
        "Care type": "Cohort",
        "Cohort Discovery?": false,
        "Data set": "HICS submissions",
        "Dataset on Gateway?": false,
        "Dataset on portal?": false,
        "Health area": "Nutrition",
        "Organisation": "Wessex SNSDE",
        "Organisation link": "https://wessexhealthpartners.org.uk/"
       },
       "94": {
        "Care type": "Cohort",
        "Cohort Discovery?": false,
        "Data set": "HICS submissions",
        "Dataset on Gateway?": false,
        "Dataset on portal?": false,
        "Health area": "Nutrition",
        "Organisation": "Wessex SNSDE",
        "Organisation link": "https://wessexhealthpartners.org.uk/"
       },
       "95": {
        "Care type": "Cohort",
        "Cohort Discovery?": false,
        "Data set": "HICS submissions",
        "Dataset on Gateway?": false,
        "Dataset on portal?": false,
        "Health area": "Nutrition",
        "Organisation": "Wessex SNSDE",
        "Organisation link": "https://wessexhealthpartners.org.uk/"
       },
       "96": {
        "Care type": "Cohort",
        "Cohort Discovery?": false,
        "Data set": "HICS submissions",
        "Dataset on Gateway?": false,
        "Dataset on portal?": false,
        "Health area": "Nutrition",
        "Organisation": "Wessex SNSDE",
        "Organisation link": "https://wessexhealthpartners.org.uk/"
       },
       "97": {
        "Care type": "Cohort",
        "Cohort Discovery?": false,
        "Data set": "HICS submissions",
        "Dataset on Gateway?": false,
        "Dataset on portal?": false,
        "Health area": "Nutrition",
        "Organisation": "Wessex SNSDE",
        "Organisation link": "https://wessexhealthpartners.org.uk/"
       },
       "98": {
        "Care type": "Cohort",
        "Cohort Discovery?": false,
        "Data set": "HICS submissions",
        "Dataset on Gateway?": false,
        "Dataset on portal?": false,
        "Health area": "Nutrition",
        "Organisation": "Wessex SNSDE",
        "Organisation link": "https://wessexhealthpartners.org.uk/"
       },
       "99": {
        "Care type": "Cohort",
        "Cohort Discovery?": false,
        "Data set": "HICS submissions",
        "Dataset on Gateway?": false,
        "Dataset on portal?": false,
        "Health area": "Nutrition",
        "Organisation": "Wessex SNSDE",
        "Organisation link": "https://wessexhealthpartners.org.uk/"
       }
      },
      "text/plain": [
       "<IPython.core.display.JSON object>"
      ]
     },
     "execution_count": 42,
     "metadata": {
      "application/json": {
       "expanded": false,
       "root": "root"
      }
     },
     "output_type": "execute_result"
    }
   ],
   "source": [
    "JSON(json_dict)"
   ]
  },
  {
   "cell_type": "markdown",
   "id": "dbe32422-bb01-49e3-ba4f-7fcb170e0359",
   "metadata": {},
   "source": [
    "Write the JSON string to a text file:"
   ]
  },
  {
   "cell_type": "code",
   "execution_count": 43,
   "id": "0ccfce67-b968-4a10-a43b-5fea2274e42b",
   "metadata": {},
   "outputs": [
    {
     "name": "stdout",
     "output_type": "stream",
     "text": [
      "28608 characters written to datasets.json\n"
     ]
    }
   ],
   "source": [
    "json_file_name = 'datasets.json'\n",
    "with open(json_file_name, mode='wt') as json_file_obj:\n",
    "    chars = json_file_obj.write(json_str)\n",
    "print(f'{chars} characters written to {json_file_name}')"
   ]
  },
  {
   "cell_type": "code",
   "execution_count": null,
   "id": "cfbdc7f1-de78-406e-ade4-0dc104f59b89",
   "metadata": {},
   "outputs": [],
   "source": []
  }
 ],
 "metadata": {
  "kernelspec": {
   "display_name": "Python 3 (ipykernel)",
   "language": "python",
   "name": "python3"
  },
  "language_info": {
   "codemirror_mode": {
    "name": "ipython",
    "version": 3
   },
   "file_extension": ".py",
   "mimetype": "text/x-python",
   "name": "python",
   "nbconvert_exporter": "python",
   "pygments_lexer": "ipython3",
   "version": "3.8.16"
  }
 },
 "nbformat": 4,
 "nbformat_minor": 5
}
